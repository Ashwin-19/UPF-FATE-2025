{
 "cells": [
  {
   "cell_type": "markdown",
   "metadata": {},
   "source": [
    "# Fairness, Accountability, Transparency and Ethics Course (FATE)\n",
    "\n",
    "## Universitat Pompeu Fabra (UPF)\n",
    "### Year 22/23\n",
    "### Author: Manuel Portela (manuel.portela@upf.edu - \n",
    "*** Partially based on the original exercises made by David Solans (david.solans@upf.edu) ***\n",
    "<br>\n",
    "<br>\n",
    "<br>\n",
    "Submission date: 10/02/2022 at 23:59 on Aula Global\n",
    "\n",
    "Please, implement this notebook **individually**.\n",
    "\n",
    "<br>\n",
    "<br>"
   ]
  },
  {
   "cell_type": "markdown",
   "metadata": {},
   "source": [
    "**Legend** <br>\n",
    "In this notebook we use:    \n",
    "<div class=\"alert alert-block col-md-7 alert-info\">To recall information from the theory classes and other tips</div>\n",
    "<div class=\"alert alert-block col-md-7 alert-warning\">To point important things that should not be \n",
    "   forgotten</div> \n",
    "<div class=\"alert alert-block col-md-7 alert-success\">To indicate tasks to be done by students</div>\n",
    "<div class=\"alert alert-block col-md-7 alert-primary bg-primary\">LAB TASK</div>"
   ]
  },
  {
   "cell_type": "markdown",
   "metadata": {},
   "source": [
    "Supplementary material: ARX deidentifier. [Link to ARX deidentifier video](https://www.youtube.com/watch?v=N8I-sxmMfqQ)"
   ]
  },
  {
   "cell_type": "markdown",
   "metadata": {},
   "source": [
    "# LAB 1: Data anonymization with Python"
   ]
  },
  {
   "cell_type": "markdown",
   "metadata": {},
   "source": [
    "# Session 01\n",
    "### 1.1. K-Anonymity\n",
    "\n",
    "The concept of k-anonymity was first introduced by Latanya Sweeney and Pierangela Samarati in a paper published in 1998[1] as an attempt to solve the problem: \"Given person-specific field-structured data, produce a release of the data with scientific guarantees that the individuals who are the subjects of the data cannot be re-identified while the data remain practically useful.\"[2][3][4] \n",
    "\n",
    "**A release of data is said to have the k-anonymity property if the information for each person contained in the release cannot be distinguished from at least *k - 1* individuals whose information also appear in the release.**\n",
    "\n",
    "\n",
    "* [1] Samarati, Pierangela; Sweeney, Latanya (1998). \"Protecting privacy when disclosing information: k-anonymity and its enforcement through generalization and suppression\"\n",
    "* [2] P. Samarati. Protecting Respondents' Identities in Microdata Release. IEEE Transactions on Knowledge and Data Engineering archive Volume 13 Issue 6, November 2001.\n",
    "* [3] L. Sweeney. \"Database Security: k-anonymity\". Retrieved 19 January 2014.\n",
    "* [4] L. Sweeney. k-anonymity: a model for protecting privacy. International Journal on Uncertainty, Fuzziness and Knowledge-based Systems, 10 卌, 2002; 557-570.\n",
    "\n",
    "\n",
    "Let's begin by importing the required Python libraries:"
   ]
  },
  {
   "cell_type": "markdown",
   "metadata": {},
   "source": [
    "###  Libraries used in this notebook\n",
    "You will need to install: **numpy** and **pandas**"
   ]
  },
  {
   "cell_type": "code",
   "execution_count": 1,
   "metadata": {},
   "outputs": [],
   "source": [
    "## Required imports\n",
    "import pandas as pd\n",
    "import numpy as np\n",
    "\n",
    "import random\n"
   ]
  },
  {
   "cell_type": "markdown",
   "metadata": {},
   "source": [
    "In this notebook we will use a synthetic dataset created for demonstration purposes. It aims to simulare medical records of 100 users. If you have some curiosity on how was it created, you can check the script named *synthetic_data_generator.py*"
   ]
  },
  {
   "cell_type": "markdown",
   "metadata": {},
   "source": [
    "### 1.2 Loading our dataset"
   ]
  },
  {
   "cell_type": "code",
   "execution_count": 3,
   "metadata": {},
   "outputs": [],
   "source": [
    "df = pd.read_csv(\"../Data/health_dataset.csv\")"
   ]
  },
  {
   "cell_type": "code",
   "execution_count": 4,
   "metadata": {},
   "outputs": [
    {
     "data": {
      "text/html": [
       "<div>\n",
       "<style scoped>\n",
       "    .dataframe tbody tr th:only-of-type {\n",
       "        vertical-align: middle;\n",
       "    }\n",
       "\n",
       "    .dataframe tbody tr th {\n",
       "        vertical-align: top;\n",
       "    }\n",
       "\n",
       "    .dataframe thead th {\n",
       "        text-align: right;\n",
       "    }\n",
       "</style>\n",
       "<table border=\"1\" class=\"dataframe\">\n",
       "  <thead>\n",
       "    <tr style=\"text-align: right;\">\n",
       "      <th></th>\n",
       "      <th>PatientName</th>\n",
       "      <th>SSN</th>\n",
       "      <th>PatientID</th>\n",
       "      <th>Phone</th>\n",
       "      <th>Gender</th>\n",
       "      <th>BirthDate</th>\n",
       "      <th>ZipCode</th>\n",
       "      <th>Health Condition</th>\n",
       "      <th>Weight</th>\n",
       "      <th>Height</th>\n",
       "    </tr>\n",
       "  </thead>\n",
       "  <tbody>\n",
       "    <tr>\n",
       "      <th>0</th>\n",
       "      <td>Pablo de Cobo</td>\n",
       "      <td>412-92-6881</td>\n",
       "      <td>1000</td>\n",
       "      <td>+34 738 644 211</td>\n",
       "      <td>Male</td>\n",
       "      <td>20011009</td>\n",
       "      <td>8003</td>\n",
       "      <td>Bird flu</td>\n",
       "      <td>80</td>\n",
       "      <td>184</td>\n",
       "    </tr>\n",
       "    <tr>\n",
       "      <th>1</th>\n",
       "      <td>Fabio Menendez Velasco</td>\n",
       "      <td>265-27-3243</td>\n",
       "      <td>1001</td>\n",
       "      <td>+34742032426</td>\n",
       "      <td>Male</td>\n",
       "      <td>20010110</td>\n",
       "      <td>8003</td>\n",
       "      <td>Bird flu</td>\n",
       "      <td>79</td>\n",
       "      <td>179</td>\n",
       "    </tr>\n",
       "    <tr>\n",
       "      <th>2</th>\n",
       "      <td>Flavia Cabañas Cabanillas</td>\n",
       "      <td>554-97-8002</td>\n",
       "      <td>1002</td>\n",
       "      <td>+34712747631</td>\n",
       "      <td>Female</td>\n",
       "      <td>20010101</td>\n",
       "      <td>8014</td>\n",
       "      <td>Bird flu</td>\n",
       "      <td>67</td>\n",
       "      <td>172</td>\n",
       "    </tr>\n",
       "    <tr>\n",
       "      <th>3</th>\n",
       "      <td>Eliana Vendrell-Vilalta</td>\n",
       "      <td>990-49-6929</td>\n",
       "      <td>1003</td>\n",
       "      <td>+34 712 466 137</td>\n",
       "      <td>Female</td>\n",
       "      <td>20001009</td>\n",
       "      <td>8002</td>\n",
       "      <td>Common cold and flu</td>\n",
       "      <td>93</td>\n",
       "      <td>184</td>\n",
       "    </tr>\n",
       "    <tr>\n",
       "      <th>4</th>\n",
       "      <td>César Mas Silva</td>\n",
       "      <td>833-83-9451</td>\n",
       "      <td>1004</td>\n",
       "      <td>+34716 22 73 14</td>\n",
       "      <td>Male</td>\n",
       "      <td>20000101</td>\n",
       "      <td>8002</td>\n",
       "      <td>Common cold and flu</td>\n",
       "      <td>66</td>\n",
       "      <td>171</td>\n",
       "    </tr>\n",
       "  </tbody>\n",
       "</table>\n",
       "</div>"
      ],
      "text/plain": [
       "                 PatientName          SSN  PatientID            Phone  Gender  \\\n",
       "0              Pablo de Cobo  412-92-6881       1000  +34 738 644 211    Male   \n",
       "1     Fabio Menendez Velasco  265-27-3243       1001     +34742032426    Male   \n",
       "2  Flavia Cabañas Cabanillas  554-97-8002       1002     +34712747631  Female   \n",
       "3    Eliana Vendrell-Vilalta  990-49-6929       1003  +34 712 466 137  Female   \n",
       "4            César Mas Silva  833-83-9451       1004  +34716 22 73 14    Male   \n",
       "\n",
       "   BirthDate  ZipCode     Health Condition  Weight  Height  \n",
       "0   20011009     8003             Bird flu      80     184  \n",
       "1   20010110     8003             Bird flu      79     179  \n",
       "2   20010101     8014             Bird flu      67     172  \n",
       "3   20001009     8002  Common cold and flu      93     184  \n",
       "4   20000101     8002  Common cold and flu      66     171  "
      ]
     },
     "execution_count": 4,
     "metadata": {},
     "output_type": "execute_result"
    }
   ],
   "source": [
    "df.head()"
   ]
  },
  {
   "cell_type": "markdown",
   "metadata": {},
   "source": [
    "<div class=\"alert alert-block alert-info\">\n",
    "    <h2>Remember what you learned in the theory classes <h4>(T04C - slide5)</h4></h2>\n",
    "    <br>\n",
    "<ul>\n",
    "    <li>Identifiers can unambiguously identify a person (e.g., passport number, DNI/NIE in Spain)</li>\n",
    "    <li>Quasi-identifiers identify the person with some ambiguity (e.g., home address, telephone number)</li>\n",
    "    <li>Confidential attributes contain sensitive information (e.g., salary, religion, ethnicity, gender orientation, diagnosis)</li>\n",
    "    <li>Non-confidential attributes are what remains</li>\n",
    "   \n",
    "</ul>    \n",
    "    \n",
    "</div>"
   ]
  },
  {
   "cell_type": "markdown",
   "metadata": {},
   "source": [
    "<div class=\"alert alert-block alert-primary bg-primary head-2\">\n",
    "    <h2 class=\"alert-heading\">[L1.1] Questions about identifiers (0.5pts)</h2>\n",
    "    <hr>\n",
    "     <p class=\"mb-0\">Please, check the provided dataset and answer the following questions:</p>\n",
    "</div>"
   ]
  },
  {
   "cell_type": "markdown",
   "metadata": {},
   "source": [
    "1. Which Identifiers do you observe in the dataset?"
   ]
  },
  {
   "cell_type": "markdown",
   "metadata": {},
   "source": [
    "**Your answer:**"
   ]
  },
  {
   "cell_type": "markdown",
   "metadata": {},
   "source": [
    "2. What are the Quasi-identifiers that. you see in this dataset?\n"
   ]
  },
  {
   "cell_type": "markdown",
   "metadata": {},
   "source": [
    "**Your answer:**"
   ]
  },
  {
   "cell_type": "markdown",
   "metadata": {},
   "source": [
    "3. Is there any confidential attribute in it?"
   ]
  },
  {
   "cell_type": "markdown",
   "metadata": {},
   "source": [
    "**Your answer:**"
   ]
  },
  {
   "cell_type": "markdown",
   "metadata": {},
   "source": [
    "<div class=\"alert alert-block alert-warning\">\n",
    "    <h2>Remember:</h2>\n",
    "<ul>\n",
    "    <li>Identifiers should be supressed</li>\n",
    "    <li>Quasi-identifiers cannot be suppressed, they have high analytical value</li>\n",
    "    <li>Quasi-identifiers can be combined with external databases to re-identify a person</li>\n",
    "   \n",
    "</ul>    \n",
    "    \n",
    "</div>"
   ]
  },
  {
   "cell_type": "markdown",
   "metadata": {},
   "source": [
    "<div class=\"alert alert-block alert-primary bg-primary head-2\">\n",
    "    <h2 class=\"alert-heading\">[L1.2] Coding a selection of identifiers (0.5 pts)</h2>\n",
    "    <hr>\n",
    "     <p class=\"mb-0\">Create a Python snippet that selects the subset that only contains not personal identifible information</p>\n",
    "</div>"
   ]
  },
  {
   "cell_type": "code",
   "execution_count": 3,
   "metadata": {},
   "outputs": [],
   "source": [
    "## Your code here\n",
    "## filtered_df = ...\n"
   ]
  },
  {
   "cell_type": "markdown",
   "metadata": {},
   "source": []
  },
  {
   "cell_type": "markdown",
   "metadata": {},
   "source": [
    "<div class=\"alert alert-block alert-primary bg-primary head-2\">\n",
    "    <h2 class=\"alert-heading\">[L1.3] Anonymity check (1pts)</h2>\n",
    "    <hr>\n",
    "     <p class=\"mb-0\">Create a Python function that checks if a DataFrame sastifies k-anonimity for a given K.</p>\n",
    "</div>\n",
    "\n",
    "\n",
    "<div class=\"alert alert-block alert-info\">Tip: Use only a subset of the columns (BirthDate, ZipCode) for this exercise</div>\n",
    "<br>"
   ]
  },
  {
   "cell_type": "code",
   "execution_count": 6,
   "metadata": {},
   "outputs": [],
   "source": [
    "## Use a helper function that calculates the groups by value\n",
    "## If using pandas, you can consider using grouping and group sizes for that\n",
    "def get_values_frequencies(_df, quasi_identifier_cols):\n",
    "    ## Your code here\n",
    "    pass"
   ]
  },
  {
   "cell_type": "code",
   "execution_count": 7,
   "metadata": {},
   "outputs": [],
   "source": [
    "## Code a function that uses the function above and determines whether a given dataset satifies K-anonimity \n",
    "# for a given K\n",
    "def is_k_anonymous(_df, K, quasi_identifier_cols=[\"BirthDate\", \"ZipCode\"]):\n",
    "    ## Your code here\n",
    "    pass"
   ]
  },
  {
   "cell_type": "markdown",
   "metadata": {},
   "source": [
    "### Testing with k anonimity of our dataset\n",
    "<div class=\"alert alert-block alert-success\">Use the function above to check if the dataframe is 2-anonymous with respect to BirthData and ZipCode</div>\n",
    "\n",
    "<br>"
   ]
  },
  {
   "cell_type": "code",
   "execution_count": 8,
   "metadata": {},
   "outputs": [
    {
     "data": {
      "text/plain": [
       "False"
      ]
     },
     "execution_count": 8,
     "metadata": {},
     "output_type": "execute_result"
    }
   ],
   "source": [
    "## Your code here (It should return False)"
   ]
  },
  {
   "cell_type": "markdown",
   "metadata": {},
   "source": [
    "<div class=\"alert alert-block alert-primary bg-primary head-2\">\n",
    "    <h2 class=\"alert-heading\">[L1.4] Questions about k-anonymity (0.5 point)</h2>\n",
    "    <hr>\n",
    "     <p class=\"mb-0\">Answer the following question:</p>\n",
    "</div>"
   ]
  },
  {
   "cell_type": "markdown",
   "metadata": {},
   "source": [
    "Does the dataset as it is satisfy k-anonimity for K=2? If not, what do you think should be done to achieve it?\n",
    "\n",
    "**Your answer:**"
   ]
  },
  {
   "cell_type": "markdown",
   "metadata": {},
   "source": [
    "\n",
    "<div class=\"alert alert-block alert-success\">Provide an example of why this is happening</div>\n",
    "<br>\n",
    "\n",
    "**Your answer:** (You can use code for it)"
   ]
  },
  {
   "cell_type": "markdown",
   "metadata": {},
   "source": [
    "### Testing k anonimity of another dataset\n",
    "\n",
    "To test that the function works as expected, we will use a second dataset.\n",
    "\n",
    "This dataset corresponds to the example given by Wikipedia on the [K-anonimity article](https://en.wikipedia.org/wiki/K-anonymity) and satisfies 2-anonymity for any combination of the attributes Gender, State and Age.\n"
   ]
  },
  {
   "cell_type": "code",
   "execution_count": 9,
   "metadata": {},
   "outputs": [],
   "source": [
    "anonymous_df = pd.read_csv(\"../Data/anonymized_dataset.csv\")"
   ]
  },
  {
   "cell_type": "code",
   "execution_count": 10,
   "metadata": {},
   "outputs": [
    {
     "data": {
      "text/html": [
       "<div>\n",
       "<style scoped>\n",
       "    .dataframe tbody tr th:only-of-type {\n",
       "        vertical-align: middle;\n",
       "    }\n",
       "\n",
       "    .dataframe tbody tr th {\n",
       "        vertical-align: top;\n",
       "    }\n",
       "\n",
       "    .dataframe thead th {\n",
       "        text-align: right;\n",
       "    }\n",
       "</style>\n",
       "<table border=\"1\" class=\"dataframe\">\n",
       "  <thead>\n",
       "    <tr style=\"text-align: right;\">\n",
       "      <th></th>\n",
       "      <th>Name</th>\n",
       "      <th>Age</th>\n",
       "      <th>Gender</th>\n",
       "      <th>State</th>\n",
       "      <th>Religion</th>\n",
       "      <th>HealthCondition</th>\n",
       "    </tr>\n",
       "  </thead>\n",
       "  <tbody>\n",
       "    <tr>\n",
       "      <th>0</th>\n",
       "      <td>*</td>\n",
       "      <td>&gt;20</td>\n",
       "      <td>Female</td>\n",
       "      <td>Tamil Nadu</td>\n",
       "      <td>*</td>\n",
       "      <td>Cancer</td>\n",
       "    </tr>\n",
       "    <tr>\n",
       "      <th>1</th>\n",
       "      <td>*</td>\n",
       "      <td>&gt;20</td>\n",
       "      <td>Female</td>\n",
       "      <td>Kerala</td>\n",
       "      <td>*</td>\n",
       "      <td>Viral infection</td>\n",
       "    </tr>\n",
       "    <tr>\n",
       "      <th>2</th>\n",
       "      <td>*</td>\n",
       "      <td>&gt;20</td>\n",
       "      <td>Female</td>\n",
       "      <td>Tamil Nadu</td>\n",
       "      <td>*</td>\n",
       "      <td>No illness</td>\n",
       "    </tr>\n",
       "    <tr>\n",
       "      <th>3</th>\n",
       "      <td>*</td>\n",
       "      <td>&gt;20</td>\n",
       "      <td>Male</td>\n",
       "      <td>Karnataka</td>\n",
       "      <td>*</td>\n",
       "      <td>No illness</td>\n",
       "    </tr>\n",
       "    <tr>\n",
       "      <th>4</th>\n",
       "      <td>*</td>\n",
       "      <td>&gt;20</td>\n",
       "      <td>Female</td>\n",
       "      <td>Kerala</td>\n",
       "      <td>*</td>\n",
       "      <td>Heart-related</td>\n",
       "    </tr>\n",
       "  </tbody>\n",
       "</table>\n",
       "</div>"
      ],
      "text/plain": [
       "  Name  Age  Gender       State Religion  HealthCondition\n",
       "0    *  >20  Female  Tamil Nadu        *           Cancer\n",
       "1    *  >20  Female      Kerala        *  Viral infection\n",
       "2    *  >20  Female  Tamil Nadu        *       No illness\n",
       "3    *  >20    Male   Karnataka        *       No illness\n",
       "4    *  >20  Female      Kerala        *    Heart-related"
      ]
     },
     "execution_count": 10,
     "metadata": {},
     "output_type": "execute_result"
    }
   ],
   "source": [
    "anonymous_df.head()"
   ]
  },
  {
   "cell_type": "markdown",
   "metadata": {},
   "source": [
    "<div class=\"alert alert-block alert-primary bg-primary head-2\">\n",
    "    <h2 class=\"alert-heading\">[L1.5] Evaluate K-anonymity (0.5 pts)</h2>\n",
    "    <hr>\n",
    "     <p class=\"mb-0\">Check 2-anonimity for different combinations of the three attributes</p>\n",
    "</div>\n",
    "\n",
    "<div class=\"alert alert-block col-md-7 alert-info\">Tip: Your function should return \"True\" for all the following tests</div>\n"
   ]
  },
  {
   "cell_type": "code",
   "execution_count": 1,
   "metadata": {},
   "outputs": [],
   "source": [
    "## Your code here (You can implement more than one check)"
   ]
  },
  {
   "cell_type": "markdown",
   "metadata": {},
   "source": [
    "Does any of the test failed? Why? "
   ]
  },
  {
   "cell_type": "code",
   "execution_count": 16,
   "metadata": {},
   "outputs": [],
   "source": [
    "# Your answer"
   ]
  },
  {
   "cell_type": "markdown",
   "metadata": {},
   "source": [
    "# Session 02: Generalization and ℓ -diversity"
   ]
  },
  {
   "cell_type": "markdown",
   "metadata": {},
   "source": [
    "<div class=\"alert alert-block alert-primary bg-primary head-2\">\n",
    "    <h2 class=\"alert-heading\">[L1.6] Anonymization through GLOBAL generalization (1 points)</h2>\n",
    "    <hr>\n",
    "     <p class=\"mb-0\">Now we will work on data anonymization. For that, we will focus on two of the quasi-identifiers: BirthDate and ZipCode.</p>\n",
    "         <p>Create a Python function that creates k-anonymity groups by greedy <b>GLOBAL</b> recoding -- generalization.</p>\n",
    "    <p>Your function should return \"True\" for all the following tests.</p>\n",
    "</div>\n",
    "\n",
    "<div class=\"alert alert-block alert-info\">Tip: to perform <b>GLOBAL</b> generalization, all the rows in the entire database are modified.</div>\n"
   ]
  },
  {
   "cell_type": "code",
   "execution_count": 17,
   "metadata": {},
   "outputs": [],
   "source": [
    "def apply_global_generalization_to_single_column(c_values, num_digits_to_ofuscate):\n",
    "    ## Your code here\n",
    "    pass\n",
    "\n",
    "def apply_global_generalization_to_df(_df, num_digits_to_ofuscate, target_columns=[\"BirthDate\", \"ZipCode\"]):\n",
    "    ## Your code here\n",
    "    pass"
   ]
  },
  {
   "cell_type": "code",
   "execution_count": 2,
   "metadata": {},
   "outputs": [],
   "source": [
    "## Check that the result of generalizing filtered_df for 2 digits now satisfies the K-anonimity check for K=2\n",
    "\n",
    "## Your code here (it must return True)"
   ]
  },
  {
   "cell_type": "code",
   "execution_count": null,
   "metadata": {},
   "outputs": [],
   "source": []
  },
  {
   "cell_type": "markdown",
   "metadata": {},
   "source": [
    "<div class=\"alert alert-block alert-primary bg-primary head-2\">\n",
    "    <h2 class=\"alert-heading\">[L1.7] Implement Global Generalization (1.5 point)</h2>\n",
    "    <hr>\n",
    "     <p class=\"mb-0\">Use the function above to create a table where:</p>\n",
    "     <ul>\n",
    "        <li>rows = #of zip digits removed</li>\n",
    "        <li>columns = #of date of birth digits removed</li>\n",
    "        <li>cells = k-anonymity level achieved</li>\n",
    "    </ul>\n",
    "</div>\n"
   ]
  },
  {
   "cell_type": "code",
   "execution_count": 20,
   "metadata": {},
   "outputs": [],
   "source": [
    "## Implement this function to create the K-Anonimity Table\n",
    "def create_K_anonimity_table(_df, max_zipcode_digits, max_dob_digits, target_columns=[\"BirthDate\", \"ZipCode\"]):\n",
    "    ## Your code here\n",
    "    pass"
   ]
  },
  {
   "cell_type": "code",
   "execution_count": 4,
   "metadata": {},
   "outputs": [],
   "source": [
    "## Call the function above to compute results with 0-5 digits ofuscated for each column\n",
    "## Your code here (Be sure it prints the table in the appropriate format)"
   ]
  },
  {
   "cell_type": "markdown",
   "metadata": {},
   "source": [
    "<div class=\"alert alert-block alert-primary bg-primary head-2\">\n",
    "    <h2 class=\"alert-heading\">[L1.8] Anonymization through LOCAL generalization (1.5 point)</h2>\n",
    "    <hr>\n",
    "     <p class=\"mb-0\">Create a Python function that creates k-anonymity groups by greedy <b>LOCAL</b> recoding -- generalization</p>\n",
    "     <p>\n",
    "        Deciding how to aggregate the smaller groups in an smart way that still keeps part of the information is an arduous task that can be solved by treating the problem as a search task.\n",
    "<br>\n",
    "For this exercise, aggregating the smaller groups in aggregations of size k is enough. For that, you can concatenate their values to replace their original ones.\n",
    "    </p>\n",
    "</div>\n",
    "\n",
    "\n",
    "<div class=\"alert alert-block alert-info\">Tip: to perform <b>LOCAL</b> generalization, you first need to group by column values and then aggregate small groups.\n",
    "   \n",
    "</div>"
   ]
  },
  {
   "cell_type": "code",
   "execution_count": 93,
   "metadata": {},
   "outputs": [],
   "source": [
    "## Apply local generalization to the values of a DataFrame\n",
    "def apply_local_generalization_to_df(_df, num_digits_to_ofuscate, target_columns=[\"BirthDate\", \"ZipCode\"]):\n",
    "    ## Your code here\n",
    "    pass"
   ]
  },
  {
   "cell_type": "code",
   "execution_count": 5,
   "metadata": {},
   "outputs": [],
   "source": [
    "## Call the function above to compute results with 0-5 digits ofuscated for each column\n",
    "## Your code here"
   ]
  },
  {
   "cell_type": "markdown",
   "metadata": {},
   "source": [
    "<div class=\"alert alert-block alert-primary bg-primary head-2\">\n",
    "    <h2 class=\"alert-heading\">[L1.9] Evaluating LOCAL generalization (1 points)</h2>\n",
    "    <hr>\n",
    "     <p class=\"mb-0\">In the local generalization implemented above, we used the trick of aggregating the smaller groups in groupings of size K.\n",
    "</p>\n",
    "<p>When implementing LOCAL generalization in a real environment, a more advance approach is generally required. So that we do not loose too much information in the aggregation.\n",
    "</p>\n",
    "<p>For that:</p>\n",
    "     <ul>\n",
    "             <li>Deciding how to aggregate the smaller groups in an smart way that still keeps part of the information is an arduous task that can be solved by treating the problem as a search task.</li>\n",
    "             <li>For this exercise, aggregating the smaller groups in aggregations of size k is enough. For that, you can concatenate their values to replace their original ones.\n",
    "             </li>\n",
    "    </ul>\n",
    "    <p>Implement an alternative function for LOCAL generalization and probe that the new groupings loose less information than the approach followed in the exercise proposed above</p>\n",
    "    <p>Please, include an explaination of the ideas followed for your implementation.</p>\n",
    "</div>\n",
    "\n",
    "\n",
    "<div class=\"alert alert-block alert-info\"> \n",
    "  TIP: you can use a ML classification/clustering technique to optimize the decision where to apply local generalization.\n",
    "</div>\n",
    "\n"
   ]
  },
  {
   "cell_type": "code",
   "execution_count": 95,
   "metadata": {},
   "outputs": [],
   "source": [
    "## Apply local generalization to the values of a DataFrame\n",
    "def apply_advanced_local_generalization_to_df(_df, num_digits_to_ofuscate, target_columns=[\"BirthDate\", \"ZipCode\"]):\n",
    "    ## Your code here\n",
    "    pass"
   ]
  },
  {
   "cell_type": "code",
   "execution_count": 6,
   "metadata": {},
   "outputs": [],
   "source": [
    "## Call the function above to compute results with 0-5 digits ofuscated for each column\n",
    "## Your code here"
   ]
  },
  {
   "cell_type": "markdown",
   "metadata": {},
   "source": [
    "### 1.2.  ℓ -diversity\n",
    "\n",
    "Now, k-anonymity demands that we group individual rows/persons of our dataset into group of at least \n",
    "k rows/persons and replace the quasi-identifier attributes of these rows with aggregate quantities, such that it is no longer possible to read the individual values. This protects people by ensuring that an adversary who knows all values of a person's quasi-identifier attributes can only find out which group a person might belong to but not know if the person is really in the dataset.\n",
    "\n",
    "A large problem of this approach is that it might happen that all people in a k-anonymous group possess the same value of the sensitive attribute. An adversary who knows that a person is in that k-anonymous group can then still learn the value of the sensitive attribute of that person with absolute certainty. This problem can be fixed by using an extension of k-anonymity called \"l-diversity\": l-diversity ensures that each k-anonymous group contains at least l different values of the sensitive attribute. Therefore, even if an adversary can identify the group of a person he/she still would not be able to find out the value of that person's sensitive attribute with certainty.\n",
    "\n",
    "A data set is said to satisfy ℓ -diversity if, for each group of records sharing a combination of key attributes, there are at least ℓ “well represented” values for each conﬁdential attribute. A table is said to have l -diversity if every equivalence class of the table has l-diversity [1, 2].\n",
    "\n",
    "[1]: Machanavajjhala, A., Gehrke, J., Kifer, D. and Venkitasubramaniam, M., 2006, April. l-diversity: Privacy beyond k-anonymity. In 22nd International Conference on Data Engineering (ICDE’06) (pp. 24-24). IEEE.\n",
    "\n",
    "[2]: Domingo-Ferrer, J. and Torra, V., 2008, March. A critique of k-anonymity and some of its enhancements. In 2008 Third International Conference on Availability, Reliability and Security (pp. 990-993). IEEE.\n",
    "\n",
    "A sensitive data record is made of the following microdata types: the ID; any Key Attributes; and the confidential outcome attribute(s). ℓ -diversity seeks to extend the equivalence classes that we created using K-anonymity by generalisation and masking of the quasi-identifiers (the QI groups) to the confidential attributes in the record as well. The ℓ -diversity principle demands that, in each QI-group, at most 1/ ℓ of its tuples can have an identical sensitive attribute value.\n",
    "\n",
    "The new ℓ -diverse equivalence classes require that the anonymous record is ‘well represented’ in the records. As an example, if we have 4 types of disease diagnosis, then for 2-diversity the equivalence records should expose the sensitive record as no more than two of four possible records."
   ]
  },
  {
   "cell_type": "markdown",
   "metadata": {},
   "source": [
    "<div class=\"alert alert-block alert-primary bg-primary head-2\">\n",
    "    <h2 class=\"alert-heading\">[L1.10] Evaluate ℓ -diversity (1 point)</h2>\n",
    "    <hr>\n",
    "     <p class=\"mb-0\">Create a function that check if a dataset complies with the ℓ -diversity principle by analysing each Qi group and comparing with different sensitivity values.\n",
    "</p>\n",
    "\n",
    "</div>\n",
    "\n",
    "\n",
    "<div class=\"alert alert-block alert-info\"> \n",
    "  TIP: You might use the same target columns from the k-anonymity test as Qi-Groups.\n",
    "</div>\n"
   ]
  },
  {
   "cell_type": "code",
   "execution_count": 82,
   "metadata": {},
   "outputs": [],
   "source": [
    "def is_l_diverse(df,partitions, sensitive_column, l=2):\n",
    "    #your function here\n",
    "    pass"
   ]
  },
  {
   "cell_type": "code",
   "execution_count": 28,
   "metadata": {},
   "outputs": [
    {
     "name": "stderr",
     "output_type": "stream",
     "text": [
      "/var/folders/t5/2m6ttkvn4kgbxjs_4xls40m80000gn/T/ipykernel_37344/1493300723.py:5: SettingWithCopyWarning: \n",
      "A value is trying to be set on a copy of a slice from a DataFrame.\n",
      "Try using .loc[row_indexer,col_indexer] = value instead\n",
      "\n",
      "See the caveats in the documentation: https://pandas.pydata.org/pandas-docs/stable/user_guide/indexing.html#returning-a-view-versus-a-copy\n",
      "  filtered_df['partition'] = filtered_df['ZipCode'].astype(str) + '-' + filtered_df['BirthDate'].astype(str)\n"
     ]
    }
   ],
   "source": [
    "#defining groups and sensitive column\n",
    "target_columns=[]\n",
    "sensitive_column=[]\n"
   ]
  },
  {
   "cell_type": "markdown",
   "metadata": {},
   "source": [
    "<div class=\"alert alert-block alert-primary bg-primary head-2\">\n",
    "    <h2 class=\"alert-heading\">[L1.12] Implement ℓ -diversity check on our previous dataset (1 point)</h2>\n",
    "    <hr>\n",
    "     <p class=\"mb-0\">Does our generalized dataset complies the principle? what changes we need to satisfy  ℓ -diversity ?\n",
    "</p>\n",
    "\n",
    "</div>\n",
    "\n",
    "\n",
    "<div class=\"alert alert-block alert-info\"> \n",
    "  TIP: Test with filtered_df, globally_generalized_df and your locally localized dataset using 2 to 5 levels of sensitivity\n",
    "</div>\n"
   ]
  },
  {
   "cell_type": "code",
   "execution_count": 7,
   "metadata": {},
   "outputs": [],
   "source": [
    "## Call the function above to compute results for each column of the sensitive columns\n",
    "## Your code here"
   ]
  },
  {
   "cell_type": "code",
   "execution_count": 92,
   "metadata": {},
   "outputs": [
    {
     "name": "stdout",
     "output_type": "stream",
     "text": [
      "80**-200110** false\n",
      "80**-200101** false\n",
      "80**-200010** false\n",
      "80**-200001** false\n"
     ]
    }
   ],
   "source": [
    "is_l_diverse(globally_generalized_df, globally_generalized_df_partitions, sensitive_column, l=5)"
   ]
  },
  {
   "cell_type": "markdown",
   "metadata": {},
   "source": [
    "\n"
   ]
  }
 ],
 "metadata": {
  "kernelspec": {
   "display_name": "Python 3 (ipykernel)",
   "language": "python",
   "name": "python3"
  },
  "language_info": {
   "codemirror_mode": {
    "name": "ipython",
    "version": 3
   },
   "file_extension": ".py",
   "mimetype": "text/x-python",
   "name": "python",
   "nbconvert_exporter": "python",
   "pygments_lexer": "ipython3",
   "version": "3.11.1"
  }
 },
 "nbformat": 4,
 "nbformat_minor": 2
}
