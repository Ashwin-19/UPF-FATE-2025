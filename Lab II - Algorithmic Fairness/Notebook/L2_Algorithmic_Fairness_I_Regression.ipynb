{
  "nbformat": 4,
  "nbformat_minor": 0,
  "metadata": {
    "colab": {
      "provenance": [],
      "toc_visible": true
    },
    "kernelspec": {
      "name": "python3",
      "display_name": "Python 3"
    },
    "language_info": {
      "name": "python"
    }
  },
  "cells": [
    {
      "cell_type": "markdown",
      "source": [
        "# Fairness, Accountability, Transparency and Ethics Course (FATE)\n",
        "\n",
        "## Universitat Pompeu Fabra (UPF)\n",
        "### Academic Year 2025-2026\n",
        "### Author: Ashwin Singh (ashwin.singh01@estudiant.upf.edu)\n",
        "\n",
        "Submission date: 20/02/2025 at 23:59 on Aula Global\n",
        "\n",
        "Please work on this notebook **individually**."
      ],
      "metadata": {
        "id": "D502w_pL-G4E"
      }
    },
    {
      "cell_type": "markdown",
      "source": [
        "# Getting Started"
      ],
      "metadata": {
        "id": "YEYsV6QJet5J"
      }
    },
    {
      "cell_type": "markdown",
      "source": [
        "## Installs & Imports"
      ],
      "metadata": {
        "id": "Dmgww8eeewYD"
      }
    },
    {
      "cell_type": "code",
      "source": [
        "from sklearn.model_selection import train_test_split\n",
        "from sklearn.metrics import root_mean_squared_error\n",
        "from sklearn.linear_model import LinearRegression\n",
        "from sklearn.preprocessing import OneHotEncoder\n",
        "\n",
        "from prettytable import PrettyTable\n",
        "from scipy.stats import pearsonr\n",
        "\n",
        "import matplotlib.pyplot as plt\n",
        "import seaborn as sns\n",
        "import pandas as pd\n",
        "import numpy as np\n",
        "\n",
        "import matplotlib\n",
        "import warnings\n",
        "\n",
        "warnings.filterwarnings(action=\"ignore\")"
      ],
      "metadata": {
        "id": "oUeA6rQXVqCt"
      },
      "execution_count": 3,
      "outputs": []
    },
    {
      "cell_type": "markdown",
      "source": [
        "# Discrimination in Salaries\n",
        "\n",
        "> [Žliobaitė, I., Custers, B. Using sensitive personal data may be necessary for avoiding discrimination in data-driven decision models. Artificial Intelligence & Law 24, 183–201 (2016).](https://doi.org/10.1007/s10506-016-9182-5)"
      ],
      "metadata": {
        "id": "lCuCX8tCfbeY"
      }
    },
    {
      "cell_type": "markdown",
      "source": [
        "## Data Overview\n",
        "\n",
        "This dataset contains the salaries of 52 faculty (38 Male, 14 Female) from a small midwestern college in United States from the early 1980s.\n"
      ],
      "metadata": {
        "id": "7KgFKT4ufwdU"
      }
    },
    {
      "cell_type": "code",
      "source": [
        "data = pd.read_fwf(\"https://grodri.github.io/datasets/salary.dat\")\n",
        "\n",
        "data.rename(\n",
        "    columns={\n",
        "        \"sx\":\"sex\",          # sex of the processor\n",
        "        \"rk\":\"rank\",         # rank as a professor\n",
        "        \"dg\":\"degree\",       # highest degree obtained\n",
        "        \"yd\":\"experience\",   # years since highest degree ~ proxy for years of experience\n",
        "        \"sl\":\"salary\"        # salary of the processor\n",
        "    },\n",
        "    inplace=True\n",
        ")\n",
        "\n",
        "# years spent in current rank, not relevant to the task\n",
        "data.drop(columns=[\"yr\"],inplace=True)\n",
        "\n",
        "data.head()"
      ],
      "metadata": {
        "colab": {
          "base_uri": "https://localhost:8080/",
          "height": 206
        },
        "id": "pxzjcHgPVtq8",
        "outputId": "c2af0f1c-abd4-4fa6-c1fb-f7013de87a7b"
      },
      "execution_count": 4,
      "outputs": [
        {
          "output_type": "execute_result",
          "data": {
            "text/plain": [
              "      sex  rank     degree  experience  salary\n",
              "0    male  full  doctorate          35   36350\n",
              "1    male  full  doctorate          22   35350\n",
              "2    male  full  doctorate          23   28200\n",
              "3  female  full  doctorate          27   26775\n",
              "4    male  full    masters          30   33696"
            ],
            "text/html": [
              "\n",
              "  <div id=\"df-18bbcea1-a17d-4b7c-abf2-f94636467104\" class=\"colab-df-container\">\n",
              "    <div>\n",
              "<style scoped>\n",
              "    .dataframe tbody tr th:only-of-type {\n",
              "        vertical-align: middle;\n",
              "    }\n",
              "\n",
              "    .dataframe tbody tr th {\n",
              "        vertical-align: top;\n",
              "    }\n",
              "\n",
              "    .dataframe thead th {\n",
              "        text-align: right;\n",
              "    }\n",
              "</style>\n",
              "<table border=\"1\" class=\"dataframe\">\n",
              "  <thead>\n",
              "    <tr style=\"text-align: right;\">\n",
              "      <th></th>\n",
              "      <th>sex</th>\n",
              "      <th>rank</th>\n",
              "      <th>degree</th>\n",
              "      <th>experience</th>\n",
              "      <th>salary</th>\n",
              "    </tr>\n",
              "  </thead>\n",
              "  <tbody>\n",
              "    <tr>\n",
              "      <th>0</th>\n",
              "      <td>male</td>\n",
              "      <td>full</td>\n",
              "      <td>doctorate</td>\n",
              "      <td>35</td>\n",
              "      <td>36350</td>\n",
              "    </tr>\n",
              "    <tr>\n",
              "      <th>1</th>\n",
              "      <td>male</td>\n",
              "      <td>full</td>\n",
              "      <td>doctorate</td>\n",
              "      <td>22</td>\n",
              "      <td>35350</td>\n",
              "    </tr>\n",
              "    <tr>\n",
              "      <th>2</th>\n",
              "      <td>male</td>\n",
              "      <td>full</td>\n",
              "      <td>doctorate</td>\n",
              "      <td>23</td>\n",
              "      <td>28200</td>\n",
              "    </tr>\n",
              "    <tr>\n",
              "      <th>3</th>\n",
              "      <td>female</td>\n",
              "      <td>full</td>\n",
              "      <td>doctorate</td>\n",
              "      <td>27</td>\n",
              "      <td>26775</td>\n",
              "    </tr>\n",
              "    <tr>\n",
              "      <th>4</th>\n",
              "      <td>male</td>\n",
              "      <td>full</td>\n",
              "      <td>masters</td>\n",
              "      <td>30</td>\n",
              "      <td>33696</td>\n",
              "    </tr>\n",
              "  </tbody>\n",
              "</table>\n",
              "</div>\n",
              "    <div class=\"colab-df-buttons\">\n",
              "\n",
              "  <div class=\"colab-df-container\">\n",
              "    <button class=\"colab-df-convert\" onclick=\"convertToInteractive('df-18bbcea1-a17d-4b7c-abf2-f94636467104')\"\n",
              "            title=\"Convert this dataframe to an interactive table.\"\n",
              "            style=\"display:none;\">\n",
              "\n",
              "  <svg xmlns=\"http://www.w3.org/2000/svg\" height=\"24px\" viewBox=\"0 -960 960 960\">\n",
              "    <path d=\"M120-120v-720h720v720H120Zm60-500h600v-160H180v160Zm220 220h160v-160H400v160Zm0 220h160v-160H400v160ZM180-400h160v-160H180v160Zm440 0h160v-160H620v160ZM180-180h160v-160H180v160Zm440 0h160v-160H620v160Z\"/>\n",
              "  </svg>\n",
              "    </button>\n",
              "\n",
              "  <style>\n",
              "    .colab-df-container {\n",
              "      display:flex;\n",
              "      gap: 12px;\n",
              "    }\n",
              "\n",
              "    .colab-df-convert {\n",
              "      background-color: #E8F0FE;\n",
              "      border: none;\n",
              "      border-radius: 50%;\n",
              "      cursor: pointer;\n",
              "      display: none;\n",
              "      fill: #1967D2;\n",
              "      height: 32px;\n",
              "      padding: 0 0 0 0;\n",
              "      width: 32px;\n",
              "    }\n",
              "\n",
              "    .colab-df-convert:hover {\n",
              "      background-color: #E2EBFA;\n",
              "      box-shadow: 0px 1px 2px rgba(60, 64, 67, 0.3), 0px 1px 3px 1px rgba(60, 64, 67, 0.15);\n",
              "      fill: #174EA6;\n",
              "    }\n",
              "\n",
              "    .colab-df-buttons div {\n",
              "      margin-bottom: 4px;\n",
              "    }\n",
              "\n",
              "    [theme=dark] .colab-df-convert {\n",
              "      background-color: #3B4455;\n",
              "      fill: #D2E3FC;\n",
              "    }\n",
              "\n",
              "    [theme=dark] .colab-df-convert:hover {\n",
              "      background-color: #434B5C;\n",
              "      box-shadow: 0px 1px 3px 1px rgba(0, 0, 0, 0.15);\n",
              "      filter: drop-shadow(0px 1px 2px rgba(0, 0, 0, 0.3));\n",
              "      fill: #FFFFFF;\n",
              "    }\n",
              "  </style>\n",
              "\n",
              "    <script>\n",
              "      const buttonEl =\n",
              "        document.querySelector('#df-18bbcea1-a17d-4b7c-abf2-f94636467104 button.colab-df-convert');\n",
              "      buttonEl.style.display =\n",
              "        google.colab.kernel.accessAllowed ? 'block' : 'none';\n",
              "\n",
              "      async function convertToInteractive(key) {\n",
              "        const element = document.querySelector('#df-18bbcea1-a17d-4b7c-abf2-f94636467104');\n",
              "        const dataTable =\n",
              "          await google.colab.kernel.invokeFunction('convertToInteractive',\n",
              "                                                    [key], {});\n",
              "        if (!dataTable) return;\n",
              "\n",
              "        const docLinkHtml = 'Like what you see? Visit the ' +\n",
              "          '<a target=\"_blank\" href=https://colab.research.google.com/notebooks/data_table.ipynb>data table notebook</a>'\n",
              "          + ' to learn more about interactive tables.';\n",
              "        element.innerHTML = '';\n",
              "        dataTable['output_type'] = 'display_data';\n",
              "        await google.colab.output.renderOutput(dataTable, element);\n",
              "        const docLink = document.createElement('div');\n",
              "        docLink.innerHTML = docLinkHtml;\n",
              "        element.appendChild(docLink);\n",
              "      }\n",
              "    </script>\n",
              "  </div>\n",
              "\n",
              "\n",
              "<div id=\"df-2de51d7f-f8a4-4817-9cb3-d61b1881e30f\">\n",
              "  <button class=\"colab-df-quickchart\" onclick=\"quickchart('df-2de51d7f-f8a4-4817-9cb3-d61b1881e30f')\"\n",
              "            title=\"Suggest charts\"\n",
              "            style=\"display:none;\">\n",
              "\n",
              "<svg xmlns=\"http://www.w3.org/2000/svg\" height=\"24px\"viewBox=\"0 0 24 24\"\n",
              "     width=\"24px\">\n",
              "    <g>\n",
              "        <path d=\"M19 3H5c-1.1 0-2 .9-2 2v14c0 1.1.9 2 2 2h14c1.1 0 2-.9 2-2V5c0-1.1-.9-2-2-2zM9 17H7v-7h2v7zm4 0h-2V7h2v10zm4 0h-2v-4h2v4z\"/>\n",
              "    </g>\n",
              "</svg>\n",
              "  </button>\n",
              "\n",
              "<style>\n",
              "  .colab-df-quickchart {\n",
              "      --bg-color: #E8F0FE;\n",
              "      --fill-color: #1967D2;\n",
              "      --hover-bg-color: #E2EBFA;\n",
              "      --hover-fill-color: #174EA6;\n",
              "      --disabled-fill-color: #AAA;\n",
              "      --disabled-bg-color: #DDD;\n",
              "  }\n",
              "\n",
              "  [theme=dark] .colab-df-quickchart {\n",
              "      --bg-color: #3B4455;\n",
              "      --fill-color: #D2E3FC;\n",
              "      --hover-bg-color: #434B5C;\n",
              "      --hover-fill-color: #FFFFFF;\n",
              "      --disabled-bg-color: #3B4455;\n",
              "      --disabled-fill-color: #666;\n",
              "  }\n",
              "\n",
              "  .colab-df-quickchart {\n",
              "    background-color: var(--bg-color);\n",
              "    border: none;\n",
              "    border-radius: 50%;\n",
              "    cursor: pointer;\n",
              "    display: none;\n",
              "    fill: var(--fill-color);\n",
              "    height: 32px;\n",
              "    padding: 0;\n",
              "    width: 32px;\n",
              "  }\n",
              "\n",
              "  .colab-df-quickchart:hover {\n",
              "    background-color: var(--hover-bg-color);\n",
              "    box-shadow: 0 1px 2px rgba(60, 64, 67, 0.3), 0 1px 3px 1px rgba(60, 64, 67, 0.15);\n",
              "    fill: var(--button-hover-fill-color);\n",
              "  }\n",
              "\n",
              "  .colab-df-quickchart-complete:disabled,\n",
              "  .colab-df-quickchart-complete:disabled:hover {\n",
              "    background-color: var(--disabled-bg-color);\n",
              "    fill: var(--disabled-fill-color);\n",
              "    box-shadow: none;\n",
              "  }\n",
              "\n",
              "  .colab-df-spinner {\n",
              "    border: 2px solid var(--fill-color);\n",
              "    border-color: transparent;\n",
              "    border-bottom-color: var(--fill-color);\n",
              "    animation:\n",
              "      spin 1s steps(1) infinite;\n",
              "  }\n",
              "\n",
              "  @keyframes spin {\n",
              "    0% {\n",
              "      border-color: transparent;\n",
              "      border-bottom-color: var(--fill-color);\n",
              "      border-left-color: var(--fill-color);\n",
              "    }\n",
              "    20% {\n",
              "      border-color: transparent;\n",
              "      border-left-color: var(--fill-color);\n",
              "      border-top-color: var(--fill-color);\n",
              "    }\n",
              "    30% {\n",
              "      border-color: transparent;\n",
              "      border-left-color: var(--fill-color);\n",
              "      border-top-color: var(--fill-color);\n",
              "      border-right-color: var(--fill-color);\n",
              "    }\n",
              "    40% {\n",
              "      border-color: transparent;\n",
              "      border-right-color: var(--fill-color);\n",
              "      border-top-color: var(--fill-color);\n",
              "    }\n",
              "    60% {\n",
              "      border-color: transparent;\n",
              "      border-right-color: var(--fill-color);\n",
              "    }\n",
              "    80% {\n",
              "      border-color: transparent;\n",
              "      border-right-color: var(--fill-color);\n",
              "      border-bottom-color: var(--fill-color);\n",
              "    }\n",
              "    90% {\n",
              "      border-color: transparent;\n",
              "      border-bottom-color: var(--fill-color);\n",
              "    }\n",
              "  }\n",
              "</style>\n",
              "\n",
              "  <script>\n",
              "    async function quickchart(key) {\n",
              "      const quickchartButtonEl =\n",
              "        document.querySelector('#' + key + ' button');\n",
              "      quickchartButtonEl.disabled = true;  // To prevent multiple clicks.\n",
              "      quickchartButtonEl.classList.add('colab-df-spinner');\n",
              "      try {\n",
              "        const charts = await google.colab.kernel.invokeFunction(\n",
              "            'suggestCharts', [key], {});\n",
              "      } catch (error) {\n",
              "        console.error('Error during call to suggestCharts:', error);\n",
              "      }\n",
              "      quickchartButtonEl.classList.remove('colab-df-spinner');\n",
              "      quickchartButtonEl.classList.add('colab-df-quickchart-complete');\n",
              "    }\n",
              "    (() => {\n",
              "      let quickchartButtonEl =\n",
              "        document.querySelector('#df-2de51d7f-f8a4-4817-9cb3-d61b1881e30f button');\n",
              "      quickchartButtonEl.style.display =\n",
              "        google.colab.kernel.accessAllowed ? 'block' : 'none';\n",
              "    })();\n",
              "  </script>\n",
              "</div>\n",
              "\n",
              "    </div>\n",
              "  </div>\n"
            ],
            "application/vnd.google.colaboratory.intrinsic+json": {
              "type": "dataframe",
              "variable_name": "data",
              "summary": "{\n  \"name\": \"data\",\n  \"rows\": 52,\n  \"fields\": [\n    {\n      \"column\": \"sex\",\n      \"properties\": {\n        \"dtype\": \"category\",\n        \"num_unique_values\": 2,\n        \"samples\": [\n          \"female\",\n          \"male\"\n        ],\n        \"semantic_type\": \"\",\n        \"description\": \"\"\n      }\n    },\n    {\n      \"column\": \"rank\",\n      \"properties\": {\n        \"dtype\": \"category\",\n        \"num_unique_values\": 3,\n        \"samples\": [\n          \"full\",\n          \"associate\"\n        ],\n        \"semantic_type\": \"\",\n        \"description\": \"\"\n      }\n    },\n    {\n      \"column\": \"degree\",\n      \"properties\": {\n        \"dtype\": \"category\",\n        \"num_unique_values\": 2,\n        \"samples\": [\n          \"masters\",\n          \"doctorate\"\n        ],\n        \"semantic_type\": \"\",\n        \"description\": \"\"\n      }\n    },\n    {\n      \"column\": \"experience\",\n      \"properties\": {\n        \"dtype\": \"number\",\n        \"std\": 10,\n        \"min\": 1,\n        \"max\": 35,\n        \"num_unique_values\": 29,\n        \"samples\": [\n          6,\n          12\n        ],\n        \"semantic_type\": \"\",\n        \"description\": \"\"\n      }\n    },\n    {\n      \"column\": \"salary\",\n      \"properties\": {\n        \"dtype\": \"number\",\n        \"std\": 5917,\n        \"min\": 15000,\n        \"max\": 38045,\n        \"num_unique_values\": 51,\n        \"samples\": [\n          16500,\n          18000\n        ],\n        \"semantic_type\": \"\",\n        \"description\": \"\"\n      }\n    }\n  ]\n}"
            }
          },
          "metadata": {},
          "execution_count": 4
        }
      ]
    },
    {
      "cell_type": "markdown",
      "source": [
        "## Exploratory Data Analysis [ 2 pts ]\n",
        "\n",
        "Based on the plots below, (a) Which sex would you designated as the protected group and Why? (b) What are the main distributional differences between the protected and unprotected group in terms of how salary varies by years of experience, rank and degree?"
      ],
      "metadata": {
        "id": "xa0L5qmWscBR"
      }
    },
    {
      "cell_type": "markdown",
      "source": [
        "**[ Answer ]**\n"
      ],
      "metadata": {
        "id": "xB2xgnSJJ0Tc"
      }
    },
    {
      "cell_type": "code",
      "source": [
        "fig, (ax1, ax2) = plt.subplots(1, 2)\n",
        "\n",
        "fig.set_figheight(5)\n",
        "fig.set_figwidth(10)\n",
        "\n",
        "sns.set_theme(style=\"whitegrid\")\n",
        "\n",
        "sns.regplot(\n",
        "    data = data[data.sex==\"male\"],\n",
        "    x = \"experience\",\n",
        "    y = \"salary\",\n",
        "    color = \"gray\",\n",
        "    ax = ax1\n",
        ")\n",
        "\n",
        "sm, pm = pearsonr(\n",
        "    data[data.sex==\"male\"].experience,\n",
        "    data[data.sex==\"male\"].salary\n",
        ")\n",
        "\n",
        "ax1.set_title(\n",
        "    f\"sex = male, correlation: {round(sm,2)}\",\n",
        "    fontsize = 20\n",
        ")\n",
        "ax1.set_xlabel(\"Years of Experience\", fontsize=20)\n",
        "ax1.set_ylabel(\"Salary\", fontsize=20)\n",
        "\n",
        "sns.regplot(\n",
        "    data = data[data.sex==\"female\"],\n",
        "    x = \"experience\",\n",
        "    y = \"salary\",\n",
        "    color = \"gray\",\n",
        "    ax = ax2\n",
        ")\n",
        "\n",
        "sf, pf = pearsonr(\n",
        "    data[data.sex==\"female\"].experience,\n",
        "    data[data.sex==\"female\"].salary\n",
        ")\n",
        "\n",
        "ax2.set_title(\n",
        "    f\"sex = female, correlation: {round(sf,2)}\",\n",
        "    fontsize = 20\n",
        ")\n",
        "ax2.set_ylabel(\"Salary\", fontsize=20)\n",
        "ax2.set_xlabel(\"Years of Experience\", fontsize=20)\n",
        "\n",
        "plt.tight_layout()\n",
        "plt.show()"
      ],
      "metadata": {
        "colab": {
          "base_uri": "https://localhost:8080/",
          "height": 501
        },
        "id": "bP7QT6JloS5s",
        "outputId": "f792fb69-2053-4250-de4b-d03daa53ee30"
      },
      "execution_count": 6,
      "outputs": [
        {
          "output_type": "display_data",
          "data": {
            "text/plain": [
              "<Figure size 1000x500 with 2 Axes>"
            ],
            "image/png": "[encoded data removed]"
          },
          "metadata": {}
        }
      ]
    },
    {
      "cell_type": "code",
      "source": [
        "data.groupby(\"sex\")[\"rank\"].value_counts(normalize=True)"
      ],
      "metadata": {
        "colab": {
          "base_uri": "https://localhost:8080/",
          "height": 304
        },
        "id": "nHiEM9W8_edj",
        "outputId": "92a77fb2-c63c-46ee-e8b2-8d06defb8af3"
      },
      "execution_count": 7,
      "outputs": [
        {
          "output_type": "execute_result",
          "data": {
            "text/plain": [
              "sex     rank     \n",
              "female  assistant    0.571429\n",
              "        full         0.285714\n",
              "        associate    0.142857\n",
              "male    full         0.421053\n",
              "        associate    0.315789\n",
              "        assistant    0.263158\n",
              "Name: proportion, dtype: float64"
            ],
            "text/html": [
              "<div>\n",
              "<style scoped>\n",
              "    .dataframe tbody tr th:only-of-type {\n",
              "        vertical-align: middle;\n",
              "    }\n",
              "\n",
              "    .dataframe tbody tr th {\n",
              "        vertical-align: top;\n",
              "    }\n",
              "\n",
              "    .dataframe thead th {\n",
              "        text-align: right;\n",
              "    }\n",
              "</style>\n",
              "<table border=\"1\" class=\"dataframe\">\n",
              "  <thead>\n",
              "    <tr style=\"text-align: right;\">\n",
              "      <th></th>\n",
              "      <th></th>\n",
              "      <th>proportion</th>\n",
              "    </tr>\n",
              "    <tr>\n",
              "      <th>sex</th>\n",
              "      <th>rank</th>\n",
              "      <th></th>\n",
              "    </tr>\n",
              "  </thead>\n",
              "  <tbody>\n",
              "    <tr>\n",
              "      <th rowspan=\"3\" valign=\"top\">female</th>\n",
              "      <th>assistant</th>\n",
              "      <td>0.571429</td>\n",
              "    </tr>\n",
              "    <tr>\n",
              "      <th>full</th>\n",
              "      <td>0.285714</td>\n",
              "    </tr>\n",
              "    <tr>\n",
              "      <th>associate</th>\n",
              "      <td>0.142857</td>\n",
              "    </tr>\n",
              "    <tr>\n",
              "      <th rowspan=\"3\" valign=\"top\">male</th>\n",
              "      <th>full</th>\n",
              "      <td>0.421053</td>\n",
              "    </tr>\n",
              "    <tr>\n",
              "      <th>associate</th>\n",
              "      <td>0.315789</td>\n",
              "    </tr>\n",
              "    <tr>\n",
              "      <th>assistant</th>\n",
              "      <td>0.263158</td>\n",
              "    </tr>\n",
              "  </tbody>\n",
              "</table>\n",
              "</div><br><label><b>dtype:</b> float64</label>"
            ]
          },
          "metadata": {},
          "execution_count": 7
        }
      ]
    },
    {
      "cell_type": "code",
      "source": [
        "data.groupby(\"sex\").degree.value_counts(normalize=True)"
      ],
      "metadata": {
        "colab": {
          "base_uri": "https://localhost:8080/",
          "height": 241
        },
        "id": "kLqaYMBVC3v_",
        "outputId": "923ce990-59c6-4738-9b2e-c52ccf07e26a"
      },
      "execution_count": 8,
      "outputs": [
        {
          "output_type": "execute_result",
          "data": {
            "text/plain": [
              "sex     degree   \n",
              "female  doctorate    0.714286\n",
              "        masters      0.285714\n",
              "male    doctorate    0.631579\n",
              "        masters      0.368421\n",
              "Name: proportion, dtype: float64"
            ],
            "text/html": [
              "<div>\n",
              "<style scoped>\n",
              "    .dataframe tbody tr th:only-of-type {\n",
              "        vertical-align: middle;\n",
              "    }\n",
              "\n",
              "    .dataframe tbody tr th {\n",
              "        vertical-align: top;\n",
              "    }\n",
              "\n",
              "    .dataframe thead th {\n",
              "        text-align: right;\n",
              "    }\n",
              "</style>\n",
              "<table border=\"1\" class=\"dataframe\">\n",
              "  <thead>\n",
              "    <tr style=\"text-align: right;\">\n",
              "      <th></th>\n",
              "      <th></th>\n",
              "      <th>proportion</th>\n",
              "    </tr>\n",
              "    <tr>\n",
              "      <th>sex</th>\n",
              "      <th>degree</th>\n",
              "      <th></th>\n",
              "    </tr>\n",
              "  </thead>\n",
              "  <tbody>\n",
              "    <tr>\n",
              "      <th rowspan=\"2\" valign=\"top\">female</th>\n",
              "      <th>doctorate</th>\n",
              "      <td>0.714286</td>\n",
              "    </tr>\n",
              "    <tr>\n",
              "      <th>masters</th>\n",
              "      <td>0.285714</td>\n",
              "    </tr>\n",
              "    <tr>\n",
              "      <th rowspan=\"2\" valign=\"top\">male</th>\n",
              "      <th>doctorate</th>\n",
              "      <td>0.631579</td>\n",
              "    </tr>\n",
              "    <tr>\n",
              "      <th>masters</th>\n",
              "      <td>0.368421</td>\n",
              "    </tr>\n",
              "  </tbody>\n",
              "</table>\n",
              "</div><br><label><b>dtype:</b> float64</label>"
            ]
          },
          "metadata": {},
          "execution_count": 8
        }
      ]
    },
    {
      "cell_type": "code",
      "source": [
        "sns.set_theme(style=\"whitegrid\")\n",
        "\n",
        "fig, (ax1, ax2) = plt.subplots(1, 2)\n",
        "fig.set_figheight(6)\n",
        "fig.set_figwidth(8)\n",
        "\n",
        "sns.boxplot(data=data, x=\"rank\", y=\"salary\", hue=\"sex\", ax=ax1, palette=\"Set2\")\n",
        "sns.boxplot(data=data, x=\"degree\", y=\"salary\", hue=\"sex\", ax=ax2, palette=\"Set2\")\n",
        "\n",
        "sns.move_legend(ax1, \"upper left\", bbox_to_anchor=(-1.5, 1), fontsize=20)\n",
        "plt.setp(ax1.get_legend().get_title(), fontsize=20)\n",
        "ax2.get_legend().set_visible(False)\n",
        "\n",
        "L1 = [ ax1.xaxis.label, ax1.yaxis.label, ax2.xaxis.label ]\n",
        "L2 = ax1.get_yticklabels() + ax2.get_xticklabels()\n",
        "for item in L1: item.set_fontsize(20)\n",
        "for item in L2: item.set_fontsize(14)\n",
        "\n",
        "ax2.set_yticklabels([])\n",
        "ax2.set_ylabel(\"\")\n",
        "\n",
        "plt.tight_layout()\n",
        "plt.show()"
      ],
      "metadata": {
        "colab": {
          "base_uri": "https://localhost:8080/",
          "height": 601
        },
        "id": "WdNPiDfOWgiO",
        "outputId": "39195fbf-8b58-4ead-c066-5e562684e72a"
      },
      "execution_count": 9,
      "outputs": [
        {
          "output_type": "display_data",
          "data": {
            "text/plain": [
              "<Figure size 800x600 with 2 Axes>"
            ],
            "image/png": "[encoded data removed]"
          },
          "metadata": {}
        }
      ]
    },
    {
      "cell_type": "markdown",
      "source": [
        "## Preprocessing Data"
      ],
      "metadata": {
        "id": "9jFOk_dvf6gj"
      }
    },
    {
      "cell_type": "code",
      "source": [
        "def preprocess(data):\n",
        "\n",
        "    # encode ordinal variables on a scale of 1 to n\n",
        "    data[\"rank\"] = data[\"rank\"].map(\n",
        "        lambda rank: {\"full\":3, \"associate\":2, \"assistant\":1}[rank]\n",
        "    )\n",
        "\n",
        "    data.degree = data.degree.map(\n",
        "        lambda degree: {\"doctorate\":2, \"masters\":1}[degree]\n",
        "    )\n",
        "\n",
        "    # encode gender as one-hot without introducing a dummy variable\n",
        "    data.sex = data.sex.map(\n",
        "        lambda sex: {\"female\":1, \"male\":0}[sex]\n",
        "    )\n",
        "\n",
        "    return data\n",
        "\n",
        "processed = preprocess(data.copy())\n",
        "processed.head()"
      ],
      "metadata": {
        "colab": {
          "base_uri": "https://localhost:8080/",
          "height": 206
        },
        "id": "N9Z-my9CYblC",
        "outputId": "697e6f90-35c9-4642-84da-02a4c4080122"
      },
      "execution_count": 10,
      "outputs": [
        {
          "output_type": "execute_result",
          "data": {
            "text/plain": [
              "   sex  rank  degree  experience  salary\n",
              "0    0     3       2          35   36350\n",
              "1    0     3       2          22   35350\n",
              "2    0     3       2          23   28200\n",
              "3    1     3       2          27   26775\n",
              "4    0     3       1          30   33696"
            ],
            "text/html": [
              "\n",
              "  <div id=\"df-bf3b675d-8428-47c8-8b04-e99c6d396fdf\" class=\"colab-df-container\">\n",
              "    <div>\n",
              "<style scoped>\n",
              "    .dataframe tbody tr th:only-of-type {\n",
              "        vertical-align: middle;\n",
              "    }\n",
              "\n",
              "    .dataframe tbody tr th {\n",
              "        vertical-align: top;\n",
              "    }\n",
              "\n",
              "    .dataframe thead th {\n",
              "        text-align: right;\n",
              "    }\n",
              "</style>\n",
              "<table border=\"1\" class=\"dataframe\">\n",
              "  <thead>\n",
              "    <tr style=\"text-align: right;\">\n",
              "      <th></th>\n",
              "      <th>sex</th>\n",
              "      <th>rank</th>\n",
              "      <th>degree</th>\n",
              "      <th>experience</th>\n",
              "      <th>salary</th>\n",
              "    </tr>\n",
              "  </thead>\n",
              "  <tbody>\n",
              "    <tr>\n",
              "      <th>0</th>\n",
              "      <td>0</td>\n",
              "      <td>3</td>\n",
              "      <td>2</td>\n",
              "      <td>35</td>\n",
              "      <td>36350</td>\n",
              "    </tr>\n",
              "    <tr>\n",
              "      <th>1</th>\n",
              "      <td>0</td>\n",
              "      <td>3</td>\n",
              "      <td>2</td>\n",
              "      <td>22</td>\n",
              "      <td>35350</td>\n",
              "    </tr>\n",
              "    <tr>\n",
              "      <th>2</th>\n",
              "      <td>0</td>\n",
              "      <td>3</td>\n",
              "      <td>2</td>\n",
              "      <td>23</td>\n",
              "      <td>28200</td>\n",
              "    </tr>\n",
              "    <tr>\n",
              "      <th>3</th>\n",
              "      <td>1</td>\n",
              "      <td>3</td>\n",
              "      <td>2</td>\n",
              "      <td>27</td>\n",
              "      <td>26775</td>\n",
              "    </tr>\n",
              "    <tr>\n",
              "      <th>4</th>\n",
              "      <td>0</td>\n",
              "      <td>3</td>\n",
              "      <td>1</td>\n",
              "      <td>30</td>\n",
              "      <td>33696</td>\n",
              "    </tr>\n",
              "  </tbody>\n",
              "</table>\n",
              "</div>\n",
              "    <div class=\"colab-df-buttons\">\n",
              "\n",
              "  <div class=\"colab-df-container\">\n",
              "    <button class=\"colab-df-convert\" onclick=\"convertToInteractive('df-bf3b675d-8428-47c8-8b04-e99c6d396fdf')\"\n",
              "            title=\"Convert this dataframe to an interactive table.\"\n",
              "            style=\"display:none;\">\n",
              "\n",
              "  <svg xmlns=\"http://www.w3.org/2000/svg\" height=\"24px\" viewBox=\"0 -960 960 960\">\n",
              "    <path d=\"M120-120v-720h720v720H120Zm60-500h600v-160H180v160Zm220 220h160v-160H400v160Zm0 220h160v-160H400v160ZM180-400h160v-160H180v160Zm440 0h160v-160H620v160ZM180-180h160v-160H180v160Zm440 0h160v-160H620v160Z\"/>\n",
              "  </svg>\n",
              "    </button>\n",
              "\n",
              "  <style>\n",
              "    .colab-df-container {\n",
              "      display:flex;\n",
              "      gap: 12px;\n",
              "    }\n",
              "\n",
              "    .colab-df-convert {\n",
              "      background-color: #E8F0FE;\n",
              "      border: none;\n",
              "      border-radius: 50%;\n",
              "      cursor: pointer;\n",
              "      display: none;\n",
              "      fill: #1967D2;\n",
              "      height: 32px;\n",
              "      padding: 0 0 0 0;\n",
              "      width: 32px;\n",
              "    }\n",
              "\n",
              "    .colab-df-convert:hover {\n",
              "      background-color: #E2EBFA;\n",
              "      box-shadow: 0px 1px 2px rgba(60, 64, 67, 0.3), 0px 1px 3px 1px rgba(60, 64, 67, 0.15);\n",
              "      fill: #174EA6;\n",
              "    }\n",
              "\n",
              "    .colab-df-buttons div {\n",
              "      margin-bottom: 4px;\n",
              "    }\n",
              "\n",
              "    [theme=dark] .colab-df-convert {\n",
              "      background-color: #3B4455;\n",
              "      fill: #D2E3FC;\n",
              "    }\n",
              "\n",
              "    [theme=dark] .colab-df-convert:hover {\n",
              "      background-color: #434B5C;\n",
              "      box-shadow: 0px 1px 3px 1px rgba(0, 0, 0, 0.15);\n",
              "      filter: drop-shadow(0px 1px 2px rgba(0, 0, 0, 0.3));\n",
              "      fill: #FFFFFF;\n",
              "    }\n",
              "  </style>\n",
              "\n",
              "    <script>\n",
              "      const buttonEl =\n",
              "        document.querySelector('#df-bf3b675d-8428-47c8-8b04-e99c6d396fdf button.colab-df-convert');\n",
              "      buttonEl.style.display =\n",
              "        google.colab.kernel.accessAllowed ? 'block' : 'none';\n",
              "\n",
              "      async function convertToInteractive(key) {\n",
              "        const element = document.querySelector('#df-bf3b675d-8428-47c8-8b04-e99c6d396fdf');\n",
              "        const dataTable =\n",
              "          await google.colab.kernel.invokeFunction('convertToInteractive',\n",
              "                                                    [key], {});\n",
              "        if (!dataTable) return;\n",
              "\n",
              "        const docLinkHtml = 'Like what you see? Visit the ' +\n",
              "          '<a target=\"_blank\" href=https://colab.research.google.com/notebooks/data_table.ipynb>data table notebook</a>'\n",
              "          + ' to learn more about interactive tables.';\n",
              "        element.innerHTML = '';\n",
              "        dataTable['output_type'] = 'display_data';\n",
              "        await google.colab.output.renderOutput(dataTable, element);\n",
              "        const docLink = document.createElement('div');\n",
              "        docLink.innerHTML = docLinkHtml;\n",
              "        element.appendChild(docLink);\n",
              "      }\n",
              "    </script>\n",
              "  </div>\n",
              "\n",
              "\n",
              "<div id=\"df-9c4159a6-4544-4e8f-a6e9-3bdc5c10d500\">\n",
              "  <button class=\"colab-df-quickchart\" onclick=\"quickchart('df-9c4159a6-4544-4e8f-a6e9-3bdc5c10d500')\"\n",
              "            title=\"Suggest charts\"\n",
              "            style=\"display:none;\">\n",
              "\n",
              "<svg xmlns=\"http://www.w3.org/2000/svg\" height=\"24px\"viewBox=\"0 0 24 24\"\n",
              "     width=\"24px\">\n",
              "    <g>\n",
              "        <path d=\"M19 3H5c-1.1 0-2 .9-2 2v14c0 1.1.9 2 2 2h14c1.1 0 2-.9 2-2V5c0-1.1-.9-2-2-2zM9 17H7v-7h2v7zm4 0h-2V7h2v10zm4 0h-2v-4h2v4z\"/>\n",
              "    </g>\n",
              "</svg>\n",
              "  </button>\n",
              "\n",
              "<style>\n",
              "  .colab-df-quickchart {\n",
              "      --bg-color: #E8F0FE;\n",
              "      --fill-color: #1967D2;\n",
              "      --hover-bg-color: #E2EBFA;\n",
              "      --hover-fill-color: #174EA6;\n",
              "      --disabled-fill-color: #AAA;\n",
              "      --disabled-bg-color: #DDD;\n",
              "  }\n",
              "\n",
              "  [theme=dark] .colab-df-quickchart {\n",
              "      --bg-color: #3B4455;\n",
              "      --fill-color: #D2E3FC;\n",
              "      --hover-bg-color: #434B5C;\n",
              "      --hover-fill-color: #FFFFFF;\n",
              "      --disabled-bg-color: #3B4455;\n",
              "      --disabled-fill-color: #666;\n",
              "  }\n",
              "\n",
              "  .colab-df-quickchart {\n",
              "    background-color: var(--bg-color);\n",
              "    border: none;\n",
              "    border-radius: 50%;\n",
              "    cursor: pointer;\n",
              "    display: none;\n",
              "    fill: var(--fill-color);\n",
              "    height: 32px;\n",
              "    padding: 0;\n",
              "    width: 32px;\n",
              "  }\n",
              "\n",
              "  .colab-df-quickchart:hover {\n",
              "    background-color: var(--hover-bg-color);\n",
              "    box-shadow: 0 1px 2px rgba(60, 64, 67, 0.3), 0 1px 3px 1px rgba(60, 64, 67, 0.15);\n",
              "    fill: var(--button-hover-fill-color);\n",
              "  }\n",
              "\n",
              "  .colab-df-quickchart-complete:disabled,\n",
              "  .colab-df-quickchart-complete:disabled:hover {\n",
              "    background-color: var(--disabled-bg-color);\n",
              "    fill: var(--disabled-fill-color);\n",
              "    box-shadow: none;\n",
              "  }\n",
              "\n",
              "  .colab-df-spinner {\n",
              "    border: 2px solid var(--fill-color);\n",
              "    border-color: transparent;\n",
              "    border-bottom-color: var(--fill-color);\n",
              "    animation:\n",
              "      spin 1s steps(1) infinite;\n",
              "  }\n",
              "\n",
              "  @keyframes spin {\n",
              "    0% {\n",
              "      border-color: transparent;\n",
              "      border-bottom-color: var(--fill-color);\n",
              "      border-left-color: var(--fill-color);\n",
              "    }\n",
              "    20% {\n",
              "      border-color: transparent;\n",
              "      border-left-color: var(--fill-color);\n",
              "      border-top-color: var(--fill-color);\n",
              "    }\n",
              "    30% {\n",
              "      border-color: transparent;\n",
              "      border-left-color: var(--fill-color);\n",
              "      border-top-color: var(--fill-color);\n",
              "      border-right-color: var(--fill-color);\n",
              "    }\n",
              "    40% {\n",
              "      border-color: transparent;\n",
              "      border-right-color: var(--fill-color);\n",
              "      border-top-color: var(--fill-color);\n",
              "    }\n",
              "    60% {\n",
              "      border-color: transparent;\n",
              "      border-right-color: var(--fill-color);\n",
              "    }\n",
              "    80% {\n",
              "      border-color: transparent;\n",
              "      border-right-color: var(--fill-color);\n",
              "      border-bottom-color: var(--fill-color);\n",
              "    }\n",
              "    90% {\n",
              "      border-color: transparent;\n",
              "      border-bottom-color: var(--fill-color);\n",
              "    }\n",
              "  }\n",
              "</style>\n",
              "\n",
              "  <script>\n",
              "    async function quickchart(key) {\n",
              "      const quickchartButtonEl =\n",
              "        document.querySelector('#' + key + ' button');\n",
              "      quickchartButtonEl.disabled = true;  // To prevent multiple clicks.\n",
              "      quickchartButtonEl.classList.add('colab-df-spinner');\n",
              "      try {\n",
              "        const charts = await google.colab.kernel.invokeFunction(\n",
              "            'suggestCharts', [key], {});\n",
              "      } catch (error) {\n",
              "        console.error('Error during call to suggestCharts:', error);\n",
              "      }\n",
              "      quickchartButtonEl.classList.remove('colab-df-spinner');\n",
              "      quickchartButtonEl.classList.add('colab-df-quickchart-complete');\n",
              "    }\n",
              "    (() => {\n",
              "      let quickchartButtonEl =\n",
              "        document.querySelector('#df-9c4159a6-4544-4e8f-a6e9-3bdc5c10d500 button');\n",
              "      quickchartButtonEl.style.display =\n",
              "        google.colab.kernel.accessAllowed ? 'block' : 'none';\n",
              "    })();\n",
              "  </script>\n",
              "</div>\n",
              "\n",
              "    </div>\n",
              "  </div>\n"
            ],
            "application/vnd.google.colaboratory.intrinsic+json": {
              "type": "dataframe",
              "variable_name": "processed",
              "summary": "{\n  \"name\": \"processed\",\n  \"rows\": 52,\n  \"fields\": [\n    {\n      \"column\": \"sex\",\n      \"properties\": {\n        \"dtype\": \"number\",\n        \"std\": 0,\n        \"min\": 0,\n        \"max\": 1,\n        \"num_unique_values\": 2,\n        \"samples\": [\n          1,\n          0\n        ],\n        \"semantic_type\": \"\",\n        \"description\": \"\"\n      }\n    },\n    {\n      \"column\": \"rank\",\n      \"properties\": {\n        \"dtype\": \"number\",\n        \"std\": 0,\n        \"min\": 1,\n        \"max\": 3,\n        \"num_unique_values\": 3,\n        \"samples\": [\n          3,\n          2\n        ],\n        \"semantic_type\": \"\",\n        \"description\": \"\"\n      }\n    },\n    {\n      \"column\": \"degree\",\n      \"properties\": {\n        \"dtype\": \"number\",\n        \"std\": 0,\n        \"min\": 1,\n        \"max\": 2,\n        \"num_unique_values\": 2,\n        \"samples\": [\n          1,\n          2\n        ],\n        \"semantic_type\": \"\",\n        \"description\": \"\"\n      }\n    },\n    {\n      \"column\": \"experience\",\n      \"properties\": {\n        \"dtype\": \"number\",\n        \"std\": 10,\n        \"min\": 1,\n        \"max\": 35,\n        \"num_unique_values\": 29,\n        \"samples\": [\n          6,\n          12\n        ],\n        \"semantic_type\": \"\",\n        \"description\": \"\"\n      }\n    },\n    {\n      \"column\": \"salary\",\n      \"properties\": {\n        \"dtype\": \"number\",\n        \"std\": 5917,\n        \"min\": 15000,\n        \"max\": 38045,\n        \"num_unique_values\": 51,\n        \"samples\": [\n          16500,\n          18000\n        ],\n        \"semantic_type\": \"\",\n        \"description\": \"\"\n      }\n    }\n  ]\n}"
            }
          },
          "metadata": {},
          "execution_count": 10
        }
      ]
    },
    {
      "cell_type": "markdown",
      "source": [
        "## A Test of Fairness via \"Unawareness\" - Linear Regression"
      ],
      "metadata": {
        "id": "zx53wMinf9_v"
      }
    },
    {
      "cell_type": "code",
      "source": [
        "def fit_regression_model(data,features,target):\n",
        "    model = LinearRegression()\n",
        "    model.fit(\n",
        "        X = data[features],\n",
        "        y = data[target]\n",
        "    )\n",
        "    return model"
      ],
      "metadata": {
        "id": "ka1KzX4ugTPb"
      },
      "execution_count": 11,
      "outputs": []
    },
    {
      "cell_type": "code",
      "source": [
        "def make_regression_formula_table(models,sensitive=[\"sex\"]):\n",
        "\n",
        "    features = models[\"aware_model\"].feature_names_in_\n",
        "\n",
        "    T = PrettyTable(\n",
        "        field_names = [\"Model\",\"intercept\"] + list(features)\n",
        "    )\n",
        "\n",
        "    for model_name in models:\n",
        "\n",
        "        model = models[model_name]\n",
        "        coefs = list(model.coef_)\n",
        "        for A in sensitive:\n",
        "            if A not in model.feature_names_in_:\n",
        "                coefs += [0]\n",
        "\n",
        "        coefs = list(map(lambda x: round(x,3),coefs))\n",
        "        intercept = round(model.intercept_,3)\n",
        "\n",
        "        row = [model_name,intercept] + coefs\n",
        "        T.add_row(row)\n",
        "\n",
        "    print(T)"
      ],
      "metadata": {
        "id": "qjqLkty4iiY7"
      },
      "execution_count": 12,
      "outputs": []
    },
    {
      "cell_type": "code",
      "source": [
        "blind_features = [\"rank\", \"degree\", \"experience\"]\n",
        "aware_features = blind_features + [\"sex\"]\n",
        "\n",
        "models = {\n",
        "\n",
        "    \"aware_model\":fit_regression_model(\n",
        "        data = processed,\n",
        "        features = aware_features,\n",
        "        target = \"salary\"\n",
        "    ),\n",
        "\n",
        "    \"blind_model\":fit_regression_model(\n",
        "        data = processed,\n",
        "        features = blind_features,\n",
        "        target = \"salary\"\n",
        "    ),\n",
        "\n",
        "    \"m_model\":fit_regression_model(\n",
        "        data = processed[processed.sex==0],\n",
        "        features = blind_features,\n",
        "        target = \"salary\"\n",
        "    ),\n",
        "\n",
        "    \"f_model\":fit_regression_model(\n",
        "        data = processed[processed.sex==1],\n",
        "        features = blind_features,\n",
        "        target = \"salary\"\n",
        "    )\n",
        "}"
      ],
      "metadata": {
        "id": "0RJY4S3jh1uj"
      },
      "execution_count": 13,
      "outputs": []
    },
    {
      "cell_type": "code",
      "source": [
        "make_regression_formula_table(models)"
      ],
      "metadata": {
        "colab": {
          "base_uri": "https://localhost:8080/"
        },
        "id": "qXkwBFyBT8sh",
        "outputId": "907f6f7e-d4de-453c-fda6-2b4505d9c7d9"
      },
      "execution_count": 14,
      "outputs": [
        {
          "output_type": "stream",
          "name": "stdout",
          "text": [
            "+-------------+-----------+----------+----------+------------+----------+\n",
            "|    Model    | intercept |   rank   |  degree  | experience |   sex    |\n",
            "+-------------+-----------+----------+----------+------------+----------+\n",
            "| aware_model | 11558.084 | 4993.251 | 397.715  |  102.948   | -950.046 |\n",
            "| blind_model | 11424.746 | 5230.64  | 179.316  |   87.735   |    0     |\n",
            "|   m_model   | 11736.019 | 5031.594 |  -30.61  |  129.252   |    0     |\n",
            "|   f_model   |  7718.572 | 4567.12  | 2398.652 |   115.91   |    0     |\n",
            "+-------------+-----------+----------+----------+------------+----------+\n"
          ]
        }
      ]
    },
    {
      "cell_type": "markdown",
      "source": [
        "## Error Analysis"
      ],
      "metadata": {
        "id": "uaKSp2qOenKe"
      }
    },
    {
      "cell_type": "code",
      "source": [
        "processed[\"pred_aware\"] = models[\"aware_model\"].predict(processed[aware_features])\n",
        "processed[\"pred_blind\"] = models[\"blind_model\"].predict(processed[blind_features])\n",
        "\n",
        "df_m, df_f = processed[processed.sex==0], processed[processed.sex==1]\n",
        "\n",
        "error_table = PrettyTable(field_names = [\"model\",\"error_male\",\"error_female\"])\n",
        "\n",
        "em_aware = root_mean_squared_error(\n",
        "    df_m.pred_aware, df_m.salary\n",
        ")\n",
        "\n",
        "ef_aware = root_mean_squared_error(\n",
        "    df_f.pred_aware, df_f.salary\n",
        ")\n",
        "\n",
        "error_table.add_row([\"aware\",round(em_aware,2), round(ef_aware,2)])\n",
        "\n",
        "em_blind = root_mean_squared_error(\n",
        "    df_m.pred_blind, df_m.salary\n",
        ")\n",
        "\n",
        "ef_blind = root_mean_squared_error(\n",
        "    df_f.pred_blind, df_f.salary\n",
        ")\n",
        "\n",
        "error_table.add_row([\"blind\",round(em_blind,2), round(ef_blind,2)])\n",
        "print(error_table)"
      ],
      "metadata": {
        "colab": {
          "base_uri": "https://localhost:8080/"
        },
        "id": "SkNjHIIXCGbt",
        "outputId": "68a746b8-a78f-4b90-a5fd-5b5a45026ab9"
      },
      "execution_count": 15,
      "outputs": [
        {
          "output_type": "stream",
          "name": "stdout",
          "text": [
            "+-------+------------+--------------+\n",
            "| model | error_male | error_female |\n",
            "+-------+------------+--------------+\n",
            "| aware |   2558.4   |   3454.03    |\n",
            "| blind |  2565.68   |   3524.82    |\n",
            "+-------+------------+--------------+\n"
          ]
        }
      ]
    },
    {
      "cell_type": "markdown",
      "source": [
        "## Faculty Hiring Scenario [ 6 pts ]\n",
        "\n",
        "Suppose you are hired as an administrator at this university, and it is upto you to determine salaries for newly hired faculty. You decide to use a **Linear Regression** model for this task, based on the information about the current faculty available to you."
      ],
      "metadata": {
        "id": "ACEHV2h0MKzw"
      }
    },
    {
      "cell_type": "markdown",
      "source": [
        "**[ 1 pts ]** You are provided with information about their rank as a professor, highest degree obtained and years of experience, but the hiring committee emphasizes on fairness and refuses to share information about the sex of the current faculty. How do you convince them to do otherwise?\n",
        "\n"
      ],
      "metadata": {
        "id": "3o1O7v3AN3Tm"
      }
    },
    {
      "cell_type": "markdown",
      "source": [
        "**[ Answer ]**"
      ],
      "metadata": {
        "id": "EaenwKqYOKkS"
      }
    },
    {
      "cell_type": "markdown",
      "source": [
        "**[ 1 pts ]** In response to your argument, one of the hiring committee members insists on building separate models for both protected groups in your data to minimize errors for each group. What are the limitations of this approach?"
      ],
      "metadata": {
        "id": "WMHir_VVOaDa"
      }
    },
    {
      "cell_type": "markdown",
      "source": [
        "**[ Answer ]**"
      ],
      "metadata": {
        "id": "EztpYXcVQ1ro"
      }
    },
    {
      "cell_type": "markdown",
      "source": [
        "**[ 4 pts ]** Let's say you finally convinced the hiring committee to provide you with information about the sex of the current faculty. Incorporate the same in your model, and show how it leads to fairer outcomes. Can the model still be unfair?\n",
        "\n",
        "**Hint I**: How can you eliminate the dependency of salary on the sensitive attribute, or alternatively, how can you make the coefficient of the sensitive attribute \"0\" in linear regression.\n",
        "\n",
        "**Hint II**: Read $\\S~\\text{3.2}$ and $\\S~\\text{4}$ of\n",
        "> Žliobaitė, I., Custers, B. Using sensitive personal data may be necessary for avoiding discrimination in data-driven decision models. Artificial Intelligence & Law 24, 183–201 (2016). https://doi.org/10.1007/s10506-016-9182-5\n",
        "\n"
      ],
      "metadata": {
        "id": "wJvfv0fHRK9d"
      }
    },
    {
      "cell_type": "code",
      "source": [
        "def correct_data(data,sensitive,protected,coef,target):\n",
        "    \"\"\"\n",
        "    Corrects the data for fairness\n",
        "\n",
        "    Args:\n",
        "        data (pandas.DataFrame): data to be corrected\n",
        "        sensitive (str): column of sensitive attribute\n",
        "        protected (str): protected group within sensitive attribute\n",
        "        coef (float): coefficeint of sensitive attribute in the model\n",
        "        target (str): column of the target variable\n",
        "\n",
        "    Returns:\n",
        "        pandas.DataFrame: corrected data\n",
        "\n",
        "    \"\"\"\n",
        "    # your code here\n",
        "    return data\n"
      ],
      "metadata": {
        "id": "OYR7534BoGwB"
      },
      "execution_count": 16,
      "outputs": []
    },
    {
      "cell_type": "code",
      "source": [
        "# your code here\n",
        "# corrected = correct_data(\n",
        "# ...\n",
        "# )"
      ],
      "metadata": {
        "id": "Rb4ucSm2mvtv"
      },
      "execution_count": 17,
      "outputs": []
    },
    {
      "cell_type": "markdown",
      "source": [
        "**[ Answer ]**"
      ],
      "metadata": {
        "id": "_4I-PcJ5r1z-"
      }
    },
    {
      "cell_type": "markdown",
      "source": [
        "# Success in Law School"
      ],
      "metadata": {
        "id": "sqW7zKWLsuLD"
      }
    },
    {
      "cell_type": "markdown",
      "source": [
        "## Data Overview\n",
        "\n",
        "The Law School Admission Council conducted a survey across 163 law schools in the United States in 1998. It contains information on 21,790 law students such as their entrance exam scores (LSAT), their grade-point average (GPA) collected prior to law school, and their first year average grade (FYA) in law school.\n",
        "\n",
        "The dataset contains **Z-Scores** for FYA, i.e., if F denotes the set of first year average grades, each $f \\in F$ is transformed as:\n",
        "\n",
        "$Z(f) = \\frac{f-\\mu_{F}}{\\sigma_{F}}$"
      ],
      "metadata": {
        "id": "RhW0sHpOJGH9"
      }
    },
    {
      "cell_type": "code",
      "source": [
        "law_data = pd.read_csv(\n",
        "    \"https://www.dropbox.com/s/ca74he84aw6ed3z/law_data.csv?dl=1\",\n",
        "    index_col = 0\n",
        ")\n",
        "\n",
        "law_data.sex = law_data.sex.map(lambda s: {1:\"female\", 2:\"male\"}[s])\n",
        "law_data = law_data[[\"race\",\"sex\",\"LSAT\",\"UGPA\",\"ZFYA\"]]\n",
        "\n",
        "law_data.head()"
      ],
      "metadata": {
        "colab": {
          "base_uri": "https://localhost:8080/",
          "height": 206
        },
        "id": "Dk0no1XTutcu",
        "outputId": "a97007a2-eec0-4ee7-b50a-4f2fd6156941"
      },
      "execution_count": 18,
      "outputs": [
        {
          "output_type": "execute_result",
          "data": {
            "text/plain": [
              "       race     sex  LSAT  UGPA  ZFYA\n",
              "0     White  female  39.0   3.1 -0.98\n",
              "1     White  female  36.0   3.0  0.09\n",
              "2     White    male  30.0   3.1 -0.35\n",
              "5  Hispanic    male  39.0   2.2  0.58\n",
              "6     White  female  37.0   3.4 -1.26"
            ],
            "text/html": [
              "\n",
              "  <div id=\"df-82008149-1793-4cec-a11a-eb7f770e17c4\" class=\"colab-df-container\">\n",
              "    <div>\n",
              "<style scoped>\n",
              "    .dataframe tbody tr th:only-of-type {\n",
              "        vertical-align: middle;\n",
              "    }\n",
              "\n",
              "    .dataframe tbody tr th {\n",
              "        vertical-align: top;\n",
              "    }\n",
              "\n",
              "    .dataframe thead th {\n",
              "        text-align: right;\n",
              "    }\n",
              "</style>\n",
              "<table border=\"1\" class=\"dataframe\">\n",
              "  <thead>\n",
              "    <tr style=\"text-align: right;\">\n",
              "      <th></th>\n",
              "      <th>race</th>\n",
              "      <th>sex</th>\n",
              "      <th>LSAT</th>\n",
              "      <th>UGPA</th>\n",
              "      <th>ZFYA</th>\n",
              "    </tr>\n",
              "  </thead>\n",
              "  <tbody>\n",
              "    <tr>\n",
              "      <th>0</th>\n",
              "      <td>White</td>\n",
              "      <td>female</td>\n",
              "      <td>39.0</td>\n",
              "      <td>3.1</td>\n",
              "      <td>-0.98</td>\n",
              "    </tr>\n",
              "    <tr>\n",
              "      <th>1</th>\n",
              "      <td>White</td>\n",
              "      <td>female</td>\n",
              "      <td>36.0</td>\n",
              "      <td>3.0</td>\n",
              "      <td>0.09</td>\n",
              "    </tr>\n",
              "    <tr>\n",
              "      <th>2</th>\n",
              "      <td>White</td>\n",
              "      <td>male</td>\n",
              "      <td>30.0</td>\n",
              "      <td>3.1</td>\n",
              "      <td>-0.35</td>\n",
              "    </tr>\n",
              "    <tr>\n",
              "      <th>5</th>\n",
              "      <td>Hispanic</td>\n",
              "      <td>male</td>\n",
              "      <td>39.0</td>\n",
              "      <td>2.2</td>\n",
              "      <td>0.58</td>\n",
              "    </tr>\n",
              "    <tr>\n",
              "      <th>6</th>\n",
              "      <td>White</td>\n",
              "      <td>female</td>\n",
              "      <td>37.0</td>\n",
              "      <td>3.4</td>\n",
              "      <td>-1.26</td>\n",
              "    </tr>\n",
              "  </tbody>\n",
              "</table>\n",
              "</div>\n",
              "    <div class=\"colab-df-buttons\">\n",
              "\n",
              "  <div class=\"colab-df-container\">\n",
              "    <button class=\"colab-df-convert\" onclick=\"convertToInteractive('df-82008149-1793-4cec-a11a-eb7f770e17c4')\"\n",
              "            title=\"Convert this dataframe to an interactive table.\"\n",
              "            style=\"display:none;\">\n",
              "\n",
              "  <svg xmlns=\"http://www.w3.org/2000/svg\" height=\"24px\" viewBox=\"0 -960 960 960\">\n",
              "    <path d=\"M120-120v-720h720v720H120Zm60-500h600v-160H180v160Zm220 220h160v-160H400v160Zm0 220h160v-160H400v160ZM180-400h160v-160H180v160Zm440 0h160v-160H620v160ZM180-180h160v-160H180v160Zm440 0h160v-160H620v160Z\"/>\n",
              "  </svg>\n",
              "    </button>\n",
              "\n",
              "  <style>\n",
              "    .colab-df-container {\n",
              "      display:flex;\n",
              "      gap: 12px;\n",
              "    }\n",
              "\n",
              "    .colab-df-convert {\n",
              "      background-color: #E8F0FE;\n",
              "      border: none;\n",
              "      border-radius: 50%;\n",
              "      cursor: pointer;\n",
              "      display: none;\n",
              "      fill: #1967D2;\n",
              "      height: 32px;\n",
              "      padding: 0 0 0 0;\n",
              "      width: 32px;\n",
              "    }\n",
              "\n",
              "    .colab-df-convert:hover {\n",
              "      background-color: #E2EBFA;\n",
              "      box-shadow: 0px 1px 2px rgba(60, 64, 67, 0.3), 0px 1px 3px 1px rgba(60, 64, 67, 0.15);\n",
              "      fill: #174EA6;\n",
              "    }\n",
              "\n",
              "    .colab-df-buttons div {\n",
              "      margin-bottom: 4px;\n",
              "    }\n",
              "\n",
              "    [theme=dark] .colab-df-convert {\n",
              "      background-color: #3B4455;\n",
              "      fill: #D2E3FC;\n",
              "    }\n",
              "\n",
              "    [theme=dark] .colab-df-convert:hover {\n",
              "      background-color: #434B5C;\n",
              "      box-shadow: 0px 1px 3px 1px rgba(0, 0, 0, 0.15);\n",
              "      filter: drop-shadow(0px 1px 2px rgba(0, 0, 0, 0.3));\n",
              "      fill: #FFFFFF;\n",
              "    }\n",
              "  </style>\n",
              "\n",
              "    <script>\n",
              "      const buttonEl =\n",
              "        document.querySelector('#df-82008149-1793-4cec-a11a-eb7f770e17c4 button.colab-df-convert');\n",
              "      buttonEl.style.display =\n",
              "        google.colab.kernel.accessAllowed ? 'block' : 'none';\n",
              "\n",
              "      async function convertToInteractive(key) {\n",
              "        const element = document.querySelector('#df-82008149-1793-4cec-a11a-eb7f770e17c4');\n",
              "        const dataTable =\n",
              "          await google.colab.kernel.invokeFunction('convertToInteractive',\n",
              "                                                    [key], {});\n",
              "        if (!dataTable) return;\n",
              "\n",
              "        const docLinkHtml = 'Like what you see? Visit the ' +\n",
              "          '<a target=\"_blank\" href=https://colab.research.google.com/notebooks/data_table.ipynb>data table notebook</a>'\n",
              "          + ' to learn more about interactive tables.';\n",
              "        element.innerHTML = '';\n",
              "        dataTable['output_type'] = 'display_data';\n",
              "        await google.colab.output.renderOutput(dataTable, element);\n",
              "        const docLink = document.createElement('div');\n",
              "        docLink.innerHTML = docLinkHtml;\n",
              "        element.appendChild(docLink);\n",
              "      }\n",
              "    </script>\n",
              "  </div>\n",
              "\n",
              "\n",
              "<div id=\"df-d9c20588-b9e0-46bc-99f8-b034235b5865\">\n",
              "  <button class=\"colab-df-quickchart\" onclick=\"quickchart('df-d9c20588-b9e0-46bc-99f8-b034235b5865')\"\n",
              "            title=\"Suggest charts\"\n",
              "            style=\"display:none;\">\n",
              "\n",
              "<svg xmlns=\"http://www.w3.org/2000/svg\" height=\"24px\"viewBox=\"0 0 24 24\"\n",
              "     width=\"24px\">\n",
              "    <g>\n",
              "        <path d=\"M19 3H5c-1.1 0-2 .9-2 2v14c0 1.1.9 2 2 2h14c1.1 0 2-.9 2-2V5c0-1.1-.9-2-2-2zM9 17H7v-7h2v7zm4 0h-2V7h2v10zm4 0h-2v-4h2v4z\"/>\n",
              "    </g>\n",
              "</svg>\n",
              "  </button>\n",
              "\n",
              "<style>\n",
              "  .colab-df-quickchart {\n",
              "      --bg-color: #E8F0FE;\n",
              "      --fill-color: #1967D2;\n",
              "      --hover-bg-color: #E2EBFA;\n",
              "      --hover-fill-color: #174EA6;\n",
              "      --disabled-fill-color: #AAA;\n",
              "      --disabled-bg-color: #DDD;\n",
              "  }\n",
              "\n",
              "  [theme=dark] .colab-df-quickchart {\n",
              "      --bg-color: #3B4455;\n",
              "      --fill-color: #D2E3FC;\n",
              "      --hover-bg-color: #434B5C;\n",
              "      --hover-fill-color: #FFFFFF;\n",
              "      --disabled-bg-color: #3B4455;\n",
              "      --disabled-fill-color: #666;\n",
              "  }\n",
              "\n",
              "  .colab-df-quickchart {\n",
              "    background-color: var(--bg-color);\n",
              "    border: none;\n",
              "    border-radius: 50%;\n",
              "    cursor: pointer;\n",
              "    display: none;\n",
              "    fill: var(--fill-color);\n",
              "    height: 32px;\n",
              "    padding: 0;\n",
              "    width: 32px;\n",
              "  }\n",
              "\n",
              "  .colab-df-quickchart:hover {\n",
              "    background-color: var(--hover-bg-color);\n",
              "    box-shadow: 0 1px 2px rgba(60, 64, 67, 0.3), 0 1px 3px 1px rgba(60, 64, 67, 0.15);\n",
              "    fill: var(--button-hover-fill-color);\n",
              "  }\n",
              "\n",
              "  .colab-df-quickchart-complete:disabled,\n",
              "  .colab-df-quickchart-complete:disabled:hover {\n",
              "    background-color: var(--disabled-bg-color);\n",
              "    fill: var(--disabled-fill-color);\n",
              "    box-shadow: none;\n",
              "  }\n",
              "\n",
              "  .colab-df-spinner {\n",
              "    border: 2px solid var(--fill-color);\n",
              "    border-color: transparent;\n",
              "    border-bottom-color: var(--fill-color);\n",
              "    animation:\n",
              "      spin 1s steps(1) infinite;\n",
              "  }\n",
              "\n",
              "  @keyframes spin {\n",
              "    0% {\n",
              "      border-color: transparent;\n",
              "      border-bottom-color: var(--fill-color);\n",
              "      border-left-color: var(--fill-color);\n",
              "    }\n",
              "    20% {\n",
              "      border-color: transparent;\n",
              "      border-left-color: var(--fill-color);\n",
              "      border-top-color: var(--fill-color);\n",
              "    }\n",
              "    30% {\n",
              "      border-color: transparent;\n",
              "      border-left-color: var(--fill-color);\n",
              "      border-top-color: var(--fill-color);\n",
              "      border-right-color: var(--fill-color);\n",
              "    }\n",
              "    40% {\n",
              "      border-color: transparent;\n",
              "      border-right-color: var(--fill-color);\n",
              "      border-top-color: var(--fill-color);\n",
              "    }\n",
              "    60% {\n",
              "      border-color: transparent;\n",
              "      border-right-color: var(--fill-color);\n",
              "    }\n",
              "    80% {\n",
              "      border-color: transparent;\n",
              "      border-right-color: var(--fill-color);\n",
              "      border-bottom-color: var(--fill-color);\n",
              "    }\n",
              "    90% {\n",
              "      border-color: transparent;\n",
              "      border-bottom-color: var(--fill-color);\n",
              "    }\n",
              "  }\n",
              "</style>\n",
              "\n",
              "  <script>\n",
              "    async function quickchart(key) {\n",
              "      const quickchartButtonEl =\n",
              "        document.querySelector('#' + key + ' button');\n",
              "      quickchartButtonEl.disabled = true;  // To prevent multiple clicks.\n",
              "      quickchartButtonEl.classList.add('colab-df-spinner');\n",
              "      try {\n",
              "        const charts = await google.colab.kernel.invokeFunction(\n",
              "            'suggestCharts', [key], {});\n",
              "      } catch (error) {\n",
              "        console.error('Error during call to suggestCharts:', error);\n",
              "      }\n",
              "      quickchartButtonEl.classList.remove('colab-df-spinner');\n",
              "      quickchartButtonEl.classList.add('colab-df-quickchart-complete');\n",
              "    }\n",
              "    (() => {\n",
              "      let quickchartButtonEl =\n",
              "        document.querySelector('#df-d9c20588-b9e0-46bc-99f8-b034235b5865 button');\n",
              "      quickchartButtonEl.style.display =\n",
              "        google.colab.kernel.accessAllowed ? 'block' : 'none';\n",
              "    })();\n",
              "  </script>\n",
              "</div>\n",
              "\n",
              "    </div>\n",
              "  </div>\n"
            ],
            "application/vnd.google.colaboratory.intrinsic+json": {
              "type": "dataframe",
              "variable_name": "law_data",
              "summary": "{\n  \"name\": \"law_data\",\n  \"rows\": 21791,\n  \"fields\": [\n    {\n      \"column\": \"race\",\n      \"properties\": {\n        \"dtype\": \"category\",\n        \"num_unique_values\": 8,\n        \"samples\": [\n          \"Hispanic\",\n          \"Mexican\",\n          \"White\"\n        ],\n        \"semantic_type\": \"\",\n        \"description\": \"\"\n      }\n    },\n    {\n      \"column\": \"sex\",\n      \"properties\": {\n        \"dtype\": \"category\",\n        \"num_unique_values\": 2,\n        \"samples\": [\n          \"male\",\n          \"female\"\n        ],\n        \"semantic_type\": \"\",\n        \"description\": \"\"\n      }\n    },\n    {\n      \"column\": \"LSAT\",\n      \"properties\": {\n        \"dtype\": \"number\",\n        \"std\": 5.446658604705817,\n        \"min\": 11.0,\n        \"max\": 48.0,\n        \"num_unique_values\": 116,\n        \"samples\": [\n          39.3,\n          30.5\n        ],\n        \"semantic_type\": \"\",\n        \"description\": \"\"\n      }\n    },\n    {\n      \"column\": \"UGPA\",\n      \"properties\": {\n        \"dtype\": \"number\",\n        \"std\": 0.4141815085712648,\n        \"min\": 0.0,\n        \"max\": 4.2,\n        \"num_unique_values\": 29,\n        \"samples\": [\n          4.2,\n          3.7\n        ],\n        \"semantic_type\": \"\",\n        \"description\": \"\"\n      }\n    },\n    {\n      \"column\": \"ZFYA\",\n      \"properties\": {\n        \"dtype\": \"number\",\n        \"std\": 0.9326307491343552,\n        \"min\": -3.35,\n        \"max\": 3.48,\n        \"num_unique_values\": 568,\n        \"samples\": [\n          -0.76,\n          -0.43\n        ],\n        \"semantic_type\": \"\",\n        \"description\": \"\"\n      }\n    }\n  ]\n}"
            }
          },
          "metadata": {},
          "execution_count": 18
        }
      ]
    },
    {
      "cell_type": "markdown",
      "source": [
        "The data is split into train set and test set in an 80-20 ratio, shuffled for randomization and stratified across sensitive attributes."
      ],
      "metadata": {
        "id": "yoSu20Vbj5Fp"
      }
    },
    {
      "cell_type": "code",
      "source": [
        "train, test = train_test_split(\n",
        "    law_data,\n",
        "    test_size = 0.2,\n",
        "    stratify = law_data[[\"race\", \"sex\"]],\n",
        "    shuffle = True\n",
        ")"
      ],
      "metadata": {
        "id": "A6nT5bbzgUrI"
      },
      "execution_count": 19,
      "outputs": []
    },
    {
      "cell_type": "markdown",
      "source": [
        "## ZFYA prediction [ 2 pts ]\n",
        "\n",
        "**[ 2 pts ]** Similar to the previous exercise, preprocess the training data and train linear regression models for predicting $Z(f)$ which are (a) blind to sensitive attributes, and (b) aware of sensitive attributes. What do you observe from the model coefficients?\n",
        "\n",
        "⚠️ Do not fall into the [dummy variable trap](https://en.wikipedia.org/wiki/Dummy_variable_(statistics#Precautions_in_the_usage_of_dummy_variables) during preprocessing."
      ],
      "metadata": {
        "id": "daZ6qnuE4GWQ"
      }
    },
    {
      "cell_type": "code",
      "source": [
        "# your code for preprocessing here"
      ],
      "metadata": {
        "id": "KOUtzCm-iJU4"
      },
      "execution_count": 20,
      "outputs": []
    },
    {
      "cell_type": "code",
      "source": [
        "# your code for training and printing model coefficients here"
      ],
      "metadata": {
        "id": "kygG-2eR8yS9"
      },
      "execution_count": 21,
      "outputs": []
    },
    {
      "cell_type": "markdown",
      "source": [
        "**[ Answer ]**"
      ],
      "metadata": {
        "id": "pDXlRbiH0vKR"
      }
    },
    {
      "cell_type": "markdown",
      "source": [
        "## Counterfactual Fairness [ 5 pts ]\n",
        "\n",
        "A decision is **counterfactually fair** towards an individual if it the same in (a) the actual world and (b) a counterfactual world where the individual belonged to a different demographic group.\n",
        "\n",
        "Formally, $Y \\perp \\!\\!\\! \\perp A \\;|\\; X \\implies$  A predictor $Y$ is **counterfactually fair** if under any context $\\;X = x,\\;A = a\\;$, $Y$ satisfies the following:\n",
        "\n",
        "$\\mathbb{E}\\;[\\;Y\\;|\\;X = x,\\;A = a\\;] = \\mathbb{E}\\;[\\;Y\\;|\\;X = x,\\;A = a'\\;] $\n",
        "\n",
        "\n",
        "\n",
        "---\n",
        "\n",
        "\n",
        "\n",
        "> [Matt Kusner, Joshua Loftus, Chris Russell, and Ricardo Silva. 2017. Counterfactual fairness. In Proceedings of the 31st International Conference on Neural Information Processing Systems (NIPS'17)](https://papers.nips.cc/paper_files/paper/2017/file/a486cd07e4ac3d270571622f4f316ec5-Paper.pdf)."
      ],
      "metadata": {
        "id": "QS28PbAEA9J_"
      }
    },
    {
      "cell_type": "markdown",
      "source": [
        "**[ 4 pts ]** Using the aware model, draw predictions on the test-set to find two combinations of race and sex  where the model over-predicts $Z(f)$ upon counterfactually changing the (a) race, and (b) sex of the law-school applicant.  \n",
        "\n",
        "For both cases, plot the distribution (histograms) of the actual $Z(f)$, normally predicted $Z(f)$, and counterfactually predicted $Z(f)$ by the model. What do you observe?\n",
        "\n",
        "Can you come up with a metric which measures counterfactual discrimination i.e., the extent to which a predictor $Y$ does not satisfy **counterfactual fairness**, given group $a$ and corresponding counterfactual group $a'$. Report the metric for both (a) and (b).\n",
        "\n",
        "\n",
        "<!-- You are free to choose the groups as long as they satisfy $\\mathbb{E}[Z(f)|a=1] < \\mathbb{E}[Z(f)|a=0]$.  -->\n",
        "\n",
        "<!-- **[ 1 pts ]** Plot the distribution of $Z(f)$ for both the protected and unprotected group (histogram / kdeplot etc.). Also report their mean and standard deviation. -->"
      ],
      "metadata": {
        "id": "ytkdG3R2AdZX"
      }
    },
    {
      "cell_type": "code",
      "source": [
        "# your code for predictions and plotting here"
      ],
      "metadata": {
        "id": "ifoHz-11GofC"
      },
      "execution_count": 22,
      "outputs": []
    },
    {
      "cell_type": "code",
      "source": [
        "# your code for discrimination metric here"
      ],
      "metadata": {
        "id": "-B8BSLG_1gWc"
      },
      "execution_count": 23,
      "outputs": []
    },
    {
      "cell_type": "markdown",
      "source": [
        "**[ Answer ]**"
      ],
      "metadata": {
        "id": "ESJ1n_KmHwU9"
      }
    },
    {
      "cell_type": "markdown",
      "source": [
        "**[ 1 pts ]** Theoretically, one could argue that a model blind to sensitive attributes satisfies **counterfactual fairness**, as for any blind model\n",
        "\n",
        "$\\forall a \\in A \\;\\; \\mathbb{E}\\;[\\;Y\\;|\\;X = x,\\;A = a\\;] = \\mathbb{E}\\;[\\;Y\\;|\\;X = x\\;]$\n",
        "\n",
        "$\\therefore \\mathbb{E}\\;[\\;Y\\;|\\;X = x,\\;A = a\\;] = \\mathbb{E}\\;[\\;Y\\;|\\;X = x,\\;A = a'\\;] = \\mathbb{E}\\;[\\;Y\\;|\\;X = x\\;]$\n",
        "\n",
        "Is this argument incorrect, or is it a limitation of **counterfactual fairness**? Explain."
      ],
      "metadata": {
        "id": "TkBr3OeixOWT"
      }
    },
    {
      "cell_type": "markdown",
      "source": [
        "**[ Answer ]**"
      ],
      "metadata": {
        "id": "wmdExW60Qw5L"
      }
    },
    {
      "cell_type": "markdown",
      "source": [
        "## Statistical (or Demographic) Parity [ 8 pts ]\n",
        "\n",
        "A prediction satisfies statistical parity if it is independent of the sensitive attribute.\n",
        "\n",
        "Formally, $Y \\perp \\!\\!\\! \\perp A \\; \\implies$ A predictor $Y$ satisfies *statistical parity* if  $\\;\\forall a \\in A \\;\\;\\; P \\;[\\;Y \\geq z \\;|\\;A = a\\;] = P \\;[\\;Y \\geq z\\;]$\n",
        "\n",
        "\n",
        "\n",
        "> [Agarwal, A., Dudik, M. &amp; Wu, Z.S.. (2019). Fair Regression: Quantitative Definitions and Reduction-Based Algorithms. <i>Proceedings of the 36th International Conference on Machine Learning</i>, in <i>Proceedings of Machine Learning Research</i>.](https://proceedings.mlr.press/v97/agarwal19d.html)\n"
      ],
      "metadata": {
        "id": "WaP82LMyBDOQ"
      }
    },
    {
      "cell_type": "markdown",
      "source": [
        "**[ 4 pts ]** Use a **pre-processing** intervention from [T09.B.15](https://docs.google.com/presentation/d/1SMYX3DTw4KEbq-rjJ2iID-nQNVAZfNU7n8T3l_vH6lY/present) to train a linear regression predictor satisfying **statistical parity** for all combinations of race-sex. Make two CDF plots of the predicted $Z(f)$ by the model on the training set, colored by (a) race and (b) sex to show the same.\n",
        "\n",
        "⚠️ Ensure that you use the same mechanism as the train set to transform values in the test set."
      ],
      "metadata": {
        "id": "QvsToBi4ZpSa"
      }
    },
    {
      "cell_type": "code",
      "source": [
        "# your code for preprocessing and model-training here"
      ],
      "metadata": {
        "id": "GTyMbLPvGAHX"
      },
      "execution_count": 24,
      "outputs": []
    },
    {
      "cell_type": "code",
      "source": [
        "# your code for predictions and plotting here"
      ],
      "metadata": {
        "id": "zu058uzGek8J"
      },
      "execution_count": 25,
      "outputs": []
    },
    {
      "cell_type": "markdown",
      "source": [
        "**[ Answer ]**"
      ],
      "metadata": {
        "id": "VudWXZyn1NBM"
      }
    },
    {
      "cell_type": "markdown",
      "source": [
        "**[ 4 pts ]**  Now, make the same two CDF plots of the predicted  𝑍(𝑓)  by the model on the **test set**, colored by (a) race and (b) sex. Does the model still satisfy **statistical parity** for both sensitive attributes? If not, explain why - you may use a metric for the same."
      ],
      "metadata": {
        "id": "A0bImL7dm_H2"
      }
    },
    {
      "cell_type": "code",
      "source": [
        "# your code for predictions and plotting here"
      ],
      "metadata": {
        "id": "SE64eo3gg2AK"
      },
      "execution_count": 26,
      "outputs": []
    },
    {
      "cell_type": "markdown",
      "source": [
        "## Law School Admission Scenario [ 2 pts ]\n",
        "\n",
        "Suppose you are incharge of admitting new students at a prestigious state university. You decide to use a **Linear Regression** model for this task, based on the current students' LSAT, UGPA and demographic attributes to predict their ZFYA (proxy of sucess) at the university. Describe one scenario in which you would use a model which is **counterfactually fair**, and one scenario where you would use a model which satisfies **statistical (or demographic) parity**. Explain your reasoning."
      ],
      "metadata": {
        "id": "8qDY7TftsF64"
      }
    },
    {
      "cell_type": "markdown",
      "source": [
        "**[ Answer ]**"
      ],
      "metadata": {
        "id": "hI0Ut69vr5_F"
      }
    }
  ]
}